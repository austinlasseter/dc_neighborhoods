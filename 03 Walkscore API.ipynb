{
 "cells": [
  {
   "cell_type": "markdown",
   "metadata": {},
   "source": [
    "# Getting the scores from Walkscore's API"
   ]
  },
  {
   "cell_type": "markdown",
   "metadata": {},
   "source": [
    "walkscore's API documentation:  \n",
    "https://www.walkscore.com/professional/api.php"
   ]
  },
  {
   "cell_type": "code",
   "execution_count": 1,
   "metadata": {
    "collapsed": true
   },
   "outputs": [],
   "source": [
    "import pandas as pd\n",
    "from bs4 import BeautifulSoup\n",
    "import requests\n",
    "from urllib.parse import urlencode, quote_plus"
   ]
  },
  {
   "cell_type": "code",
   "execution_count": 2,
   "metadata": {},
   "outputs": [
    {
     "name": "stdout",
     "output_type": "stream",
     "text": [
      "(2717, 11)\n"
     ]
    }
   ],
   "source": [
    "# Read in the file from the previous notebook.\n",
    "df=pd.read_csv('data/dc_mscores.csv', dtype={'ZIPCODE': object, \n",
    "                                             'LATITUDE': object,\n",
    "                                            'LONGITUDE': object})\n",
    "print(df.shape)"
   ]
  },
  {
   "cell_type": "code",
   "execution_count": 3,
   "metadata": {},
   "outputs": [
    {
     "data": {
      "text/html": [
       "<div>\n",
       "<style>\n",
       "    .dataframe thead tr:only-child th {\n",
       "        text-align: right;\n",
       "    }\n",
       "\n",
       "    .dataframe thead th {\n",
       "        text-align: left;\n",
       "    }\n",
       "\n",
       "    .dataframe tbody tr th {\n",
       "        vertical-align: top;\n",
       "    }\n",
       "</style>\n",
       "<table border=\"1\" class=\"dataframe\">\n",
       "  <thead>\n",
       "    <tr style=\"text-align: right;\">\n",
       "      <th></th>\n",
       "      <th>coordinates</th>\n",
       "      <th>LATITUDE</th>\n",
       "      <th>LONGITUDE</th>\n",
       "      <th>FULLADDRESS</th>\n",
       "      <th>ZIPCODE</th>\n",
       "      <th>ASSESSMENT_NBHD</th>\n",
       "      <th>CLUSTER_</th>\n",
       "      <th>WARD</th>\n",
       "      <th>Units</th>\n",
       "      <th>Residential</th>\n",
       "      <th>mobilityscore</th>\n",
       "    </tr>\n",
       "  </thead>\n",
       "  <tbody>\n",
       "    <tr>\n",
       "      <th>0</th>\n",
       "      <td>38.8688316,-77.01825188</td>\n",
       "      <td>38.8688316</td>\n",
       "      <td>-77.01825188</td>\n",
       "      <td>221 2ND AVENUE SW</td>\n",
       "      <td>20024</td>\n",
       "      <td>Ft. McNair</td>\n",
       "      <td>Cluster 9</td>\n",
       "      <td>Ward 6</td>\n",
       "      <td>59</td>\n",
       "      <td>0.20339</td>\n",
       "      <td>54.0</td>\n",
       "    </tr>\n",
       "    <tr>\n",
       "      <th>1</th>\n",
       "      <td>38.8675634,-77.01823116</td>\n",
       "      <td>38.8675634</td>\n",
       "      <td>-77.01823116</td>\n",
       "      <td>241 2ND AVENUE SW</td>\n",
       "      <td>20024</td>\n",
       "      <td>Ft. McNair</td>\n",
       "      <td>Cluster 9</td>\n",
       "      <td>Ward 6</td>\n",
       "      <td>59</td>\n",
       "      <td>0.20339</td>\n",
       "      <td>49.0</td>\n",
       "    </tr>\n",
       "    <tr>\n",
       "      <th>2</th>\n",
       "      <td>38.90749873,-76.94332398</td>\n",
       "      <td>38.90749873</td>\n",
       "      <td>-76.94332398</td>\n",
       "      <td>4300 ANACOSTIA AVENUE NE</td>\n",
       "      <td>20019</td>\n",
       "      <td>DC Stadium Area</td>\n",
       "      <td>Cluster 29</td>\n",
       "      <td>Ward 7</td>\n",
       "      <td>57</td>\n",
       "      <td>0.00000</td>\n",
       "      <td>53.0</td>\n",
       "    </tr>\n",
       "    <tr>\n",
       "      <th>3</th>\n",
       "      <td>38.87882265,-76.97541985</td>\n",
       "      <td>38.87882265</td>\n",
       "      <td>-76.97541985</td>\n",
       "      <td>1900 M STREET SE</td>\n",
       "      <td>20003</td>\n",
       "      <td>Anacostia Park</td>\n",
       "      <td>Cluster 26</td>\n",
       "      <td>Ward 6</td>\n",
       "      <td>16</td>\n",
       "      <td>0.00000</td>\n",
       "      <td>49.0</td>\n",
       "    </tr>\n",
       "    <tr>\n",
       "      <th>4</th>\n",
       "      <td>38.87269412,-76.99086222</td>\n",
       "      <td>38.87269412</td>\n",
       "      <td>-76.99086222</td>\n",
       "      <td>1105 O STREET SE</td>\n",
       "      <td>20003</td>\n",
       "      <td>Anacostia Park</td>\n",
       "      <td>Cluster 27</td>\n",
       "      <td>Ward 6</td>\n",
       "      <td>16</td>\n",
       "      <td>0.00000</td>\n",
       "      <td>71.0</td>\n",
       "    </tr>\n",
       "  </tbody>\n",
       "</table>\n",
       "</div>"
      ],
      "text/plain": [
       "                coordinates     LATITUDE     LONGITUDE  \\\n",
       "0   38.8688316,-77.01825188   38.8688316  -77.01825188   \n",
       "1   38.8675634,-77.01823116   38.8675634  -77.01823116   \n",
       "2  38.90749873,-76.94332398  38.90749873  -76.94332398   \n",
       "3  38.87882265,-76.97541985  38.87882265  -76.97541985   \n",
       "4  38.87269412,-76.99086222  38.87269412  -76.99086222   \n",
       "\n",
       "                FULLADDRESS ZIPCODE  ASSESSMENT_NBHD    CLUSTER_    WARD  \\\n",
       "0         221 2ND AVENUE SW   20024       Ft. McNair   Cluster 9  Ward 6   \n",
       "1         241 2ND AVENUE SW   20024       Ft. McNair   Cluster 9  Ward 6   \n",
       "2  4300 ANACOSTIA AVENUE NE   20019  DC Stadium Area  Cluster 29  Ward 7   \n",
       "3          1900 M STREET SE   20003   Anacostia Park  Cluster 26  Ward 6   \n",
       "4          1105 O STREET SE   20003   Anacostia Park  Cluster 27  Ward 6   \n",
       "\n",
       "   Units  Residential  mobilityscore  \n",
       "0     59      0.20339           54.0  \n",
       "1     59      0.20339           49.0  \n",
       "2     57      0.00000           53.0  \n",
       "3     16      0.00000           49.0  \n",
       "4     16      0.00000           71.0  "
      ]
     },
     "execution_count": 3,
     "metadata": {},
     "output_type": "execute_result"
    }
   ],
   "source": [
    "df.head()"
   ]
  },
  {
   "cell_type": "code",
   "execution_count": 4,
   "metadata": {},
   "outputs": [
    {
     "data": {
      "text/plain": [
       "Index(['coordinates', 'LATITUDE', 'LONGITUDE', 'FULLADDRESS', 'ZIPCODE',\n",
       "       'ASSESSMENT_NBHD', 'CLUSTER_', 'WARD', 'Units', 'Residential',\n",
       "       'mobilityscore'],\n",
       "      dtype='object')"
      ]
     },
     "execution_count": 4,
     "metadata": {},
     "output_type": "execute_result"
    }
   ],
   "source": [
    "df.columns"
   ]
  },
  {
   "cell_type": "code",
   "execution_count": 5,
   "metadata": {},
   "outputs": [
    {
     "data": {
      "text/plain": [
       "coordinates         object\n",
       "LATITUDE            object\n",
       "LONGITUDE           object\n",
       "FULLADDRESS         object\n",
       "ZIPCODE             object\n",
       "ASSESSMENT_NBHD     object\n",
       "CLUSTER_            object\n",
       "WARD                object\n",
       "Units                int64\n",
       "Residential        float64\n",
       "mobilityscore      float64\n",
       "dtype: object"
      ]
     },
     "execution_count": 5,
     "metadata": {},
     "output_type": "execute_result"
    }
   ],
   "source": [
    "df.dtypes"
   ]
  },
  {
   "cell_type": "code",
   "execution_count": 25,
   "metadata": {},
   "outputs": [
    {
     "name": "stdout",
     "output_type": "stream",
     "text": [
      "183\n",
      "(2534, 13)\n"
     ]
    }
   ],
   "source": [
    "# Remove rows with missing data.\n",
    "print(df['address'].isnull().sum())\n",
    "df.dropna(subset = ['address'], inplace=True) # Delete them.\n",
    "print(df.shape)"
   ]
  },
  {
   "cell_type": "code",
   "execution_count": 27,
   "metadata": {},
   "outputs": [
    {
     "name": "stdout",
     "output_type": "stream",
     "text": [
      "0\n",
      "0\n"
     ]
    }
   ],
   "source": [
    "# Confirm we have no other missing data.\n",
    "print(df['LATITUDE'].isnull().sum())\n",
    "print(df['LONGITUDE'].isnull().sum())"
   ]
  },
  {
   "cell_type": "markdown",
   "metadata": {},
   "source": [
    "## Setting up the API call"
   ]
  },
  {
   "cell_type": "markdown",
   "metadata": {},
   "source": [
    "This is what the call should look like:\n",
    "<img src=\"data/walkscore_api.PNG\" alt=\"Drawing\" style=\"width: 600px;\"/>"
   ]
  },
  {
   "cell_type": "code",
   "execution_count": 28,
   "metadata": {},
   "outputs": [
    {
     "data": {
      "text/plain": [
       "0           221%2ND%AVENUE%SW%20Washington%20DC%20024\n",
       "1           241%2ND%AVENUE%SW%20Washington%20DC%20024\n",
       "2    4300%ANACOSTIA%AVENUE%NE%20Washington%20DC%20019\n",
       "3            1900%M%STREET%SE%20Washington%20DC%20003\n",
       "4            1105%O%STREET%SE%20Washington%20DC%20003\n",
       "Name: address, dtype: object"
      ]
     },
     "execution_count": 28,
     "metadata": {},
     "output_type": "execute_result"
    }
   ],
   "source": [
    "# Create a column with all the address information.\n",
    "df['FULL'] = df['FULLADDRESS'].str.replace(' ','%')\n",
    "df['address']=df['FULL']+'%20Washington%20DC%'+df['ZIPCODE']\n",
    "df['address'].head()"
   ]
  },
  {
   "cell_type": "code",
   "execution_count": 29,
   "metadata": {
    "collapsed": true
   },
   "outputs": [],
   "source": [
    "# Read in the API key from another folder (saved locally, outside of the github repo)\n",
    "key_path = \"/Users/austinlasseter/keys/WAPI_key.txt\"\n",
    "key_file = open(key_path, 'r')\n",
    "api_key = str(key_file.readline())[:32] # There's a hidden '/n' at the end of that string; slice at index 16 to remove."
   ]
  },
  {
   "cell_type": "code",
   "execution_count": 30,
   "metadata": {
    "collapsed": true
   },
   "outputs": [],
   "source": [
    "# Set up the non-changing components of the call\n",
    "str1='http://api.walkscore.com/score?format=json'\n",
    "str2='&address='\n",
    "str3='&lat='\n",
    "str4='&lon='\n",
    "str5='&transit=0&bike=0&wsapikey='"
   ]
  },
  {
   "cell_type": "markdown",
   "metadata": {},
   "source": [
    "{'description': \"Walker's Paradise\",\n",
    " 'help_link': 'https://www.redfin.com/how-walk-score-works',\n",
    " 'logo_url': 'https://cdn.walk.sc/images/api-logo.png',\n",
    " 'more_info_icon': 'https://cdn.walk.sc/images/api-more-info.gif',\n",
    " 'more_info_link': 'https://www.redfin.com/how-walk-score-works',\n",
    " 'snapped_lat': 47.6085,\n",
    " 'snapped_lon': -122.3295,\n",
    " 'status': 1,\n",
    " 'updated': '2017-11-16 04:56:55.909740',\n",
    " 'walkscore': 98,\n",
    " 'ws_link': 'https://www.walkscore.com/score/loc/lat=47.6085/lng=-122.3295/?utm_source=aqueous-beyond-12197.herokuapp.com &utm_medium=ws_api&utm_campaign=ws_api'}"
   ]
  },
  {
   "cell_type": "code",
   "execution_count": 31,
   "metadata": {
    "collapsed": true
   },
   "outputs": [],
   "source": [
    "# Define a function that reads in the coordinates, then produces a new string from those 5 strings.\n",
    "def api_string(address, lat, lon):\n",
    "    call=str1+str2+address+str3+lat+str4+lon+str5+api_key\n",
    "    return call"
   ]
  },
  {
   "cell_type": "code",
   "execution_count": 32,
   "metadata": {},
   "outputs": [
    {
     "data": {
      "text/html": [
       "<div>\n",
       "<style>\n",
       "    .dataframe thead tr:only-child th {\n",
       "        text-align: right;\n",
       "    }\n",
       "\n",
       "    .dataframe thead th {\n",
       "        text-align: left;\n",
       "    }\n",
       "\n",
       "    .dataframe tbody tr th {\n",
       "        vertical-align: top;\n",
       "    }\n",
       "</style>\n",
       "<table border=\"1\" class=\"dataframe\">\n",
       "  <thead>\n",
       "    <tr style=\"text-align: right;\">\n",
       "      <th></th>\n",
       "      <th>coordinates</th>\n",
       "      <th>LATITUDE</th>\n",
       "      <th>LONGITUDE</th>\n",
       "      <th>FULLADDRESS</th>\n",
       "      <th>ZIPCODE</th>\n",
       "      <th>ASSESSMENT_NBHD</th>\n",
       "      <th>CLUSTER_</th>\n",
       "      <th>WARD</th>\n",
       "      <th>Units</th>\n",
       "      <th>Residential</th>\n",
       "      <th>mobilityscore</th>\n",
       "      <th>FULL</th>\n",
       "      <th>address</th>\n",
       "      <th>call</th>\n",
       "    </tr>\n",
       "  </thead>\n",
       "  <tbody>\n",
       "    <tr>\n",
       "      <th>0</th>\n",
       "      <td>38.8688316,-77.01825188</td>\n",
       "      <td>38.8688316</td>\n",
       "      <td>-77.01825188</td>\n",
       "      <td>221 2ND AVENUE SW</td>\n",
       "      <td>20024</td>\n",
       "      <td>Ft. McNair</td>\n",
       "      <td>Cluster 9</td>\n",
       "      <td>Ward 6</td>\n",
       "      <td>59</td>\n",
       "      <td>0.20339</td>\n",
       "      <td>54.0</td>\n",
       "      <td>221%2ND%AVENUE%SW</td>\n",
       "      <td>221%2ND%AVENUE%SW%20Washington%20DC%20024</td>\n",
       "      <td>http://api.walkscore.com/score?format=json&amp;add...</td>\n",
       "    </tr>\n",
       "    <tr>\n",
       "      <th>1</th>\n",
       "      <td>38.8675634,-77.01823116</td>\n",
       "      <td>38.8675634</td>\n",
       "      <td>-77.01823116</td>\n",
       "      <td>241 2ND AVENUE SW</td>\n",
       "      <td>20024</td>\n",
       "      <td>Ft. McNair</td>\n",
       "      <td>Cluster 9</td>\n",
       "      <td>Ward 6</td>\n",
       "      <td>59</td>\n",
       "      <td>0.20339</td>\n",
       "      <td>49.0</td>\n",
       "      <td>241%2ND%AVENUE%SW</td>\n",
       "      <td>241%2ND%AVENUE%SW%20Washington%20DC%20024</td>\n",
       "      <td>http://api.walkscore.com/score?format=json&amp;add...</td>\n",
       "    </tr>\n",
       "    <tr>\n",
       "      <th>2</th>\n",
       "      <td>38.90749873,-76.94332398</td>\n",
       "      <td>38.90749873</td>\n",
       "      <td>-76.94332398</td>\n",
       "      <td>4300 ANACOSTIA AVENUE NE</td>\n",
       "      <td>20019</td>\n",
       "      <td>DC Stadium Area</td>\n",
       "      <td>Cluster 29</td>\n",
       "      <td>Ward 7</td>\n",
       "      <td>57</td>\n",
       "      <td>0.00000</td>\n",
       "      <td>53.0</td>\n",
       "      <td>4300%ANACOSTIA%AVENUE%NE</td>\n",
       "      <td>4300%ANACOSTIA%AVENUE%NE%20Washington%20DC%20019</td>\n",
       "      <td>http://api.walkscore.com/score?format=json&amp;add...</td>\n",
       "    </tr>\n",
       "    <tr>\n",
       "      <th>3</th>\n",
       "      <td>38.87882265,-76.97541985</td>\n",
       "      <td>38.87882265</td>\n",
       "      <td>-76.97541985</td>\n",
       "      <td>1900 M STREET SE</td>\n",
       "      <td>20003</td>\n",
       "      <td>Anacostia Park</td>\n",
       "      <td>Cluster 26</td>\n",
       "      <td>Ward 6</td>\n",
       "      <td>16</td>\n",
       "      <td>0.00000</td>\n",
       "      <td>49.0</td>\n",
       "      <td>1900%M%STREET%SE</td>\n",
       "      <td>1900%M%STREET%SE%20Washington%20DC%20003</td>\n",
       "      <td>http://api.walkscore.com/score?format=json&amp;add...</td>\n",
       "    </tr>\n",
       "    <tr>\n",
       "      <th>4</th>\n",
       "      <td>38.87269412,-76.99086222</td>\n",
       "      <td>38.87269412</td>\n",
       "      <td>-76.99086222</td>\n",
       "      <td>1105 O STREET SE</td>\n",
       "      <td>20003</td>\n",
       "      <td>Anacostia Park</td>\n",
       "      <td>Cluster 27</td>\n",
       "      <td>Ward 6</td>\n",
       "      <td>16</td>\n",
       "      <td>0.00000</td>\n",
       "      <td>71.0</td>\n",
       "      <td>1105%O%STREET%SE</td>\n",
       "      <td>1105%O%STREET%SE%20Washington%20DC%20003</td>\n",
       "      <td>http://api.walkscore.com/score?format=json&amp;add...</td>\n",
       "    </tr>\n",
       "  </tbody>\n",
       "</table>\n",
       "</div>"
      ],
      "text/plain": [
       "                coordinates     LATITUDE     LONGITUDE  \\\n",
       "0   38.8688316,-77.01825188   38.8688316  -77.01825188   \n",
       "1   38.8675634,-77.01823116   38.8675634  -77.01823116   \n",
       "2  38.90749873,-76.94332398  38.90749873  -76.94332398   \n",
       "3  38.87882265,-76.97541985  38.87882265  -76.97541985   \n",
       "4  38.87269412,-76.99086222  38.87269412  -76.99086222   \n",
       "\n",
       "                FULLADDRESS ZIPCODE  ASSESSMENT_NBHD    CLUSTER_    WARD  \\\n",
       "0         221 2ND AVENUE SW   20024       Ft. McNair   Cluster 9  Ward 6   \n",
       "1         241 2ND AVENUE SW   20024       Ft. McNair   Cluster 9  Ward 6   \n",
       "2  4300 ANACOSTIA AVENUE NE   20019  DC Stadium Area  Cluster 29  Ward 7   \n",
       "3          1900 M STREET SE   20003   Anacostia Park  Cluster 26  Ward 6   \n",
       "4          1105 O STREET SE   20003   Anacostia Park  Cluster 27  Ward 6   \n",
       "\n",
       "   Units  Residential  mobilityscore                      FULL  \\\n",
       "0     59      0.20339           54.0         221%2ND%AVENUE%SW   \n",
       "1     59      0.20339           49.0         241%2ND%AVENUE%SW   \n",
       "2     57      0.00000           53.0  4300%ANACOSTIA%AVENUE%NE   \n",
       "3     16      0.00000           49.0          1900%M%STREET%SE   \n",
       "4     16      0.00000           71.0          1105%O%STREET%SE   \n",
       "\n",
       "                                            address  \\\n",
       "0         221%2ND%AVENUE%SW%20Washington%20DC%20024   \n",
       "1         241%2ND%AVENUE%SW%20Washington%20DC%20024   \n",
       "2  4300%ANACOSTIA%AVENUE%NE%20Washington%20DC%20019   \n",
       "3          1900%M%STREET%SE%20Washington%20DC%20003   \n",
       "4          1105%O%STREET%SE%20Washington%20DC%20003   \n",
       "\n",
       "                                                call  \n",
       "0  http://api.walkscore.com/score?format=json&add...  \n",
       "1  http://api.walkscore.com/score?format=json&add...  \n",
       "2  http://api.walkscore.com/score?format=json&add...  \n",
       "3  http://api.walkscore.com/score?format=json&add...  \n",
       "4  http://api.walkscore.com/score?format=json&add...  "
      ]
     },
     "execution_count": 32,
     "metadata": {},
     "output_type": "execute_result"
    }
   ],
   "source": [
    "# Apply the function to our combined lat-long coordinates.\n",
    "df['call'] = df[['address','LATITUDE', 'LONGITUDE']].apply(lambda x: api_string(*x), axis=1)\n",
    "df.head()"
   ]
  },
  {
   "cell_type": "markdown",
   "metadata": {},
   "source": [
    "## Make requests to Walkscore API"
   ]
  },
  {
   "cell_type": "code",
   "execution_count": 33,
   "metadata": {
    "collapsed": true
   },
   "outputs": [],
   "source": [
    "# Extract the information frome the API.\n",
    "for i in df.index:\n",
    "    df.loc[i, 'json'] = [requests.get(df.loc[i,'call']).json()] "
   ]
  },
  {
   "cell_type": "code",
   "execution_count": 34,
   "metadata": {},
   "outputs": [
    {
     "data": {
      "text/plain": [
       "[{'description': 'Car-Dependent',\n",
       "  'help_link': 'https://www.redfin.com/how-walk-score-works',\n",
       "  'logo_url': 'https://cdn.walk.sc/images/api-logo.png',\n",
       "  'more_info_icon': 'https://cdn.walk.sc/images/api-more-info.gif',\n",
       "  'more_info_link': 'https://www.redfin.com/how-walk-score-works',\n",
       "  'snapped_lat': 38.8695,\n",
       "  'snapped_lon': -77.019,\n",
       "  'status': 1,\n",
       "  'updated': '2017-12-03 07:05:27.109020',\n",
       "  'walkscore': 40,\n",
       "  'ws_link': 'https://www.walkscore.com/score/221-2ND-AVENUE-SW-20Washington-20DC-20024/lat=38.8688316/lng=-77.01825188/?utm_source=aqueous-beyond-12197.herokuapp.com &utm_medium=ws_api&utm_campaign=ws_api'}]"
      ]
     },
     "execution_count": 34,
     "metadata": {},
     "output_type": "execute_result"
    }
   ],
   "source": [
    "# View the results for one address\n",
    "df['json'][0]"
   ]
  },
  {
   "cell_type": "code",
   "execution_count": 35,
   "metadata": {},
   "outputs": [
    {
     "data": {
      "text/plain": [
       "40"
      ]
     },
     "execution_count": 35,
     "metadata": {},
     "output_type": "execute_result"
    }
   ],
   "source": [
    "# View the walkscore for one address\n",
    "df['json'][0][0]['walkscore']"
   ]
  },
  {
   "cell_type": "code",
   "execution_count": 37,
   "metadata": {},
   "outputs": [
    {
     "data": {
      "text/plain": [
       "0    40.0\n",
       "1    35.0\n",
       "2    40.0\n",
       "3    26.0\n",
       "4    77.0\n",
       "Name: walkscore, dtype: float64"
      ]
     },
     "execution_count": 37,
     "metadata": {},
     "output_type": "execute_result"
    }
   ],
   "source": [
    "# Apply to all rows.\n",
    "for i in df.index:\n",
    "    df.loc[(df.index==i) , 'walkscore']=df['json'][i][0]['walkscore']\n",
    "df['walkscore'].head()"
   ]
  },
  {
   "cell_type": "code",
   "execution_count": 38,
   "metadata": {},
   "outputs": [
    {
     "data": {
      "text/html": [
       "<div>\n",
       "<style>\n",
       "    .dataframe thead tr:only-child th {\n",
       "        text-align: right;\n",
       "    }\n",
       "\n",
       "    .dataframe thead th {\n",
       "        text-align: left;\n",
       "    }\n",
       "\n",
       "    .dataframe tbody tr th {\n",
       "        vertical-align: top;\n",
       "    }\n",
       "</style>\n",
       "<table border=\"1\" class=\"dataframe\">\n",
       "  <thead>\n",
       "    <tr style=\"text-align: right;\">\n",
       "      <th></th>\n",
       "      <th>LATITUDE</th>\n",
       "      <th>LONGITUDE</th>\n",
       "      <th>FULLADDRESS</th>\n",
       "      <th>ZIPCODE</th>\n",
       "      <th>ASSESSMENT_NBHD</th>\n",
       "      <th>CLUSTER_</th>\n",
       "      <th>WARD</th>\n",
       "      <th>Units</th>\n",
       "      <th>Residential</th>\n",
       "      <th>mobilityscore</th>\n",
       "      <th>walkscore</th>\n",
       "    </tr>\n",
       "  </thead>\n",
       "  <tbody>\n",
       "    <tr>\n",
       "      <th>0</th>\n",
       "      <td>38.8688316</td>\n",
       "      <td>-77.01825188</td>\n",
       "      <td>221 2ND AVENUE SW</td>\n",
       "      <td>20024</td>\n",
       "      <td>Ft. McNair</td>\n",
       "      <td>Cluster 9</td>\n",
       "      <td>Ward 6</td>\n",
       "      <td>59</td>\n",
       "      <td>0.20339</td>\n",
       "      <td>54.0</td>\n",
       "      <td>40.0</td>\n",
       "    </tr>\n",
       "    <tr>\n",
       "      <th>1</th>\n",
       "      <td>38.8675634</td>\n",
       "      <td>-77.01823116</td>\n",
       "      <td>241 2ND AVENUE SW</td>\n",
       "      <td>20024</td>\n",
       "      <td>Ft. McNair</td>\n",
       "      <td>Cluster 9</td>\n",
       "      <td>Ward 6</td>\n",
       "      <td>59</td>\n",
       "      <td>0.20339</td>\n",
       "      <td>49.0</td>\n",
       "      <td>35.0</td>\n",
       "    </tr>\n",
       "    <tr>\n",
       "      <th>2</th>\n",
       "      <td>38.90749873</td>\n",
       "      <td>-76.94332398</td>\n",
       "      <td>4300 ANACOSTIA AVENUE NE</td>\n",
       "      <td>20019</td>\n",
       "      <td>DC Stadium Area</td>\n",
       "      <td>Cluster 29</td>\n",
       "      <td>Ward 7</td>\n",
       "      <td>57</td>\n",
       "      <td>0.00000</td>\n",
       "      <td>53.0</td>\n",
       "      <td>40.0</td>\n",
       "    </tr>\n",
       "    <tr>\n",
       "      <th>3</th>\n",
       "      <td>38.87882265</td>\n",
       "      <td>-76.97541985</td>\n",
       "      <td>1900 M STREET SE</td>\n",
       "      <td>20003</td>\n",
       "      <td>Anacostia Park</td>\n",
       "      <td>Cluster 26</td>\n",
       "      <td>Ward 6</td>\n",
       "      <td>16</td>\n",
       "      <td>0.00000</td>\n",
       "      <td>49.0</td>\n",
       "      <td>26.0</td>\n",
       "    </tr>\n",
       "    <tr>\n",
       "      <th>4</th>\n",
       "      <td>38.87269412</td>\n",
       "      <td>-76.99086222</td>\n",
       "      <td>1105 O STREET SE</td>\n",
       "      <td>20003</td>\n",
       "      <td>Anacostia Park</td>\n",
       "      <td>Cluster 27</td>\n",
       "      <td>Ward 6</td>\n",
       "      <td>16</td>\n",
       "      <td>0.00000</td>\n",
       "      <td>71.0</td>\n",
       "      <td>77.0</td>\n",
       "    </tr>\n",
       "  </tbody>\n",
       "</table>\n",
       "</div>"
      ],
      "text/plain": [
       "      LATITUDE     LONGITUDE               FULLADDRESS ZIPCODE  \\\n",
       "0   38.8688316  -77.01825188         221 2ND AVENUE SW   20024   \n",
       "1   38.8675634  -77.01823116         241 2ND AVENUE SW   20024   \n",
       "2  38.90749873  -76.94332398  4300 ANACOSTIA AVENUE NE   20019   \n",
       "3  38.87882265  -76.97541985          1900 M STREET SE   20003   \n",
       "4  38.87269412  -76.99086222          1105 O STREET SE   20003   \n",
       "\n",
       "   ASSESSMENT_NBHD    CLUSTER_    WARD  Units  Residential  mobilityscore  \\\n",
       "0       Ft. McNair   Cluster 9  Ward 6     59      0.20339           54.0   \n",
       "1       Ft. McNair   Cluster 9  Ward 6     59      0.20339           49.0   \n",
       "2  DC Stadium Area  Cluster 29  Ward 7     57      0.00000           53.0   \n",
       "3   Anacostia Park  Cluster 26  Ward 6     16      0.00000           49.0   \n",
       "4   Anacostia Park  Cluster 27  Ward 6     16      0.00000           71.0   \n",
       "\n",
       "   walkscore  \n",
       "0       40.0  \n",
       "1       35.0  \n",
       "2       40.0  \n",
       "3       26.0  \n",
       "4       77.0  "
      ]
     },
     "execution_count": 38,
     "metadata": {},
     "output_type": "execute_result"
    }
   ],
   "source": [
    "# Remove unnecessary columns.\n",
    "df.drop(['coordinates', 'FULL', 'address', 'call', 'json'], axis=1, inplace=True)\n",
    "df.head()"
   ]
  },
  {
   "cell_type": "code",
   "execution_count": 39,
   "metadata": {
    "collapsed": true
   },
   "outputs": [],
   "source": [
    "df.to_csv('data/dc_wscores.csv',index=False)"
   ]
  }
 ],
 "metadata": {
  "kernelspec": {
   "display_name": "Python [conda env:anaconda3]",
   "language": "python",
   "name": "conda-env-anaconda3-py"
  },
  "language_info": {
   "codemirror_mode": {
    "name": "ipython",
    "version": 3
   },
   "file_extension": ".py",
   "mimetype": "text/x-python",
   "name": "python",
   "nbconvert_exporter": "python",
   "pygments_lexer": "ipython3",
   "version": "3.6.3"
  }
 },
 "nbformat": 4,
 "nbformat_minor": 2
}
