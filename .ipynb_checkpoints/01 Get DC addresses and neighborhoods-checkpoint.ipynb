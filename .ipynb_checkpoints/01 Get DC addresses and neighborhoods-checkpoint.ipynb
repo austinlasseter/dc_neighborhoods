{
 "cells": [
  {
   "cell_type": "markdown",
   "metadata": {},
   "source": [
    "# Getting the address & neighborhood data from Open Data DC"
   ]
  },
  {
   "cell_type": "markdown",
   "metadata": {},
   "source": [
    "List of sources:\n",
    "\n",
    "* Address Points CSV: http://opendata.dc.gov/datasets/aa514416aaf74fdc94748f1e56e7cc8a_0?geometry=-77.281%2C38.848%2C-76.792%2C38.942\n",
    "* Neighborhoods: http://opendata.dc.gov/datasets/f1c50ea5db704ed39f753f16dff964af_6?geometry=-77.502%2C38.806%2C-76.524%2C38.993    \n",
    "* Sub-neighborhoods: http://opendata.dc.gov/datasets/edfec5a1434848dc9faab79dd55c1e64_7\n",
    "* Data Dictionary: https://octo.dc.gov/sites/default/files/dc/sites/octo/publication/attachments/DCGIS_MarDataDictionary.pdf\n",
    "* More info about assessment neighborhoods: https://otr.cfo.dc.gov/sites/default/files/dc/sites/otr/publication/attachments/ARM%20TY%202019.pdf\n",
    "* Clusters and Wards: http://www.neighborhoodinfodc.org/pdfs/Ward_Cluster.pdf\n",
    "* Neighborhood Clusters: https://www.neighborhoodinfodc.org/nclusters/nclusters.html"
   ]
  },
  {
   "cell_type": "code",
   "execution_count": 1,
   "metadata": {
    "collapsed": true
   },
   "outputs": [],
   "source": [
    "import pandas as pd"
   ]
  },
  {
   "cell_type": "markdown",
   "metadata": {},
   "source": [
    "## Explore the CSV of addresses"
   ]
  },
  {
   "cell_type": "code",
   "execution_count": 2,
   "metadata": {},
   "outputs": [
    {
     "name": "stdout",
     "output_type": "stream",
     "text": [
      "(147116, 52)\n"
     ]
    },
    {
     "name": "stderr",
     "output_type": "stream",
     "text": [
      "/Users/austinlasseter/anaconda3/lib/python3.6/site-packages/IPython/core/interactiveshell.py:2698: DtypeWarning: Columns (19) have mixed types. Specify dtype option on import or set low_memory=False.\n",
      "  interactivity=interactivity, compiler=compiler, result=result)\n"
     ]
    },
    {
     "data": {
      "text/html": [
       "<div>\n",
       "<style>\n",
       "    .dataframe thead tr:only-child th {\n",
       "        text-align: right;\n",
       "    }\n",
       "\n",
       "    .dataframe thead th {\n",
       "        text-align: left;\n",
       "    }\n",
       "\n",
       "    .dataframe tbody tr th {\n",
       "        vertical-align: top;\n",
       "    }\n",
       "</style>\n",
       "<table border=\"1\" class=\"dataframe\">\n",
       "  <thead>\n",
       "    <tr style=\"text-align: right;\">\n",
       "      <th></th>\n",
       "      <th>X</th>\n",
       "      <th>Y</th>\n",
       "      <th>OBJECTID_12</th>\n",
       "      <th>SITE_ADDRESS_PK</th>\n",
       "      <th>ADDRESS_ID</th>\n",
       "      <th>STATUS</th>\n",
       "      <th>SSL</th>\n",
       "      <th>TYPE_</th>\n",
       "      <th>ENTRANCETYPE</th>\n",
       "      <th>ADDRNUM</th>\n",
       "      <th>...</th>\n",
       "      <th>LONGITUDE</th>\n",
       "      <th>ACTIVE_RES_UNIT_COUNT</th>\n",
       "      <th>RES_TYPE</th>\n",
       "      <th>ACTIVE_RES_OCCUPANCY_COUNT</th>\n",
       "      <th>WARD_2002</th>\n",
       "      <th>WARD_2012</th>\n",
       "      <th>ANC_2002</th>\n",
       "      <th>ANC_2012</th>\n",
       "      <th>SMD_2002</th>\n",
       "      <th>SMD_2012</th>\n",
       "    </tr>\n",
       "  </thead>\n",
       "  <tbody>\n",
       "    <tr>\n",
       "      <th>0</th>\n",
       "      <td>-77.000353</td>\n",
       "      <td>38.892195</td>\n",
       "      <td>832017</td>\n",
       "      <td>27746</td>\n",
       "      <td>27746</td>\n",
       "      <td>ACTIVE</td>\n",
       "      <td>0814    0018</td>\n",
       "      <td>ADDRESS</td>\n",
       "      <td>OFFICIAL</td>\n",
       "      <td>402.0</td>\n",
       "      <td>...</td>\n",
       "      <td>-77.000351</td>\n",
       "      <td>0.0</td>\n",
       "      <td>RESIDENTIAL</td>\n",
       "      <td>1.0</td>\n",
       "      <td>Ward 6</td>\n",
       "      <td>Ward 6</td>\n",
       "      <td>ANC 6C</td>\n",
       "      <td>ANC 6C</td>\n",
       "      <td>SMD 6C07</td>\n",
       "      <td>SMD 6C03</td>\n",
       "    </tr>\n",
       "    <tr>\n",
       "      <th>1</th>\n",
       "      <td>-76.999249</td>\n",
       "      <td>38.892652</td>\n",
       "      <td>832018</td>\n",
       "      <td>50808</td>\n",
       "      <td>50808</td>\n",
       "      <td>ACTIVE</td>\n",
       "      <td>0838    0027</td>\n",
       "      <td>ADDRESS</td>\n",
       "      <td>OFFICIAL</td>\n",
       "      <td>219.0</td>\n",
       "      <td>...</td>\n",
       "      <td>-76.999247</td>\n",
       "      <td>0.0</td>\n",
       "      <td>RESIDENTIAL</td>\n",
       "      <td>1.0</td>\n",
       "      <td>Ward 6</td>\n",
       "      <td>Ward 6</td>\n",
       "      <td>ANC 6C</td>\n",
       "      <td>ANC 6C</td>\n",
       "      <td>SMD 6C07</td>\n",
       "      <td>SMD 6C03</td>\n",
       "    </tr>\n",
       "    <tr>\n",
       "      <th>2</th>\n",
       "      <td>-76.999735</td>\n",
       "      <td>38.892564</td>\n",
       "      <td>832019</td>\n",
       "      <td>51065</td>\n",
       "      <td>51065</td>\n",
       "      <td>ACTIVE</td>\n",
       "      <td>0814    0818</td>\n",
       "      <td>ADDRESS</td>\n",
       "      <td>OFFICIAL</td>\n",
       "      <td>216.0</td>\n",
       "      <td>...</td>\n",
       "      <td>-76.999733</td>\n",
       "      <td>1.0</td>\n",
       "      <td>RESIDENTIAL</td>\n",
       "      <td>2.0</td>\n",
       "      <td>Ward 6</td>\n",
       "      <td>Ward 6</td>\n",
       "      <td>ANC 6C</td>\n",
       "      <td>ANC 6C</td>\n",
       "      <td>SMD 6C07</td>\n",
       "      <td>SMD 6C03</td>\n",
       "    </tr>\n",
       "  </tbody>\n",
       "</table>\n",
       "<p>3 rows × 52 columns</p>\n",
       "</div>"
      ],
      "text/plain": [
       "           X          Y  OBJECTID_12  SITE_ADDRESS_PK  ADDRESS_ID  STATUS  \\\n",
       "0 -77.000353  38.892195       832017            27746       27746  ACTIVE   \n",
       "1 -76.999249  38.892652       832018            50808       50808  ACTIVE   \n",
       "2 -76.999735  38.892564       832019            51065       51065  ACTIVE   \n",
       "\n",
       "            SSL    TYPE_ ENTRANCETYPE  ADDRNUM    ...     LONGITUDE  \\\n",
       "0  0814    0018  ADDRESS     OFFICIAL    402.0    ...    -77.000351   \n",
       "1  0838    0027  ADDRESS     OFFICIAL    219.0    ...    -76.999247   \n",
       "2  0814    0818  ADDRESS     OFFICIAL    216.0    ...    -76.999733   \n",
       "\n",
       "  ACTIVE_RES_UNIT_COUNT     RES_TYPE ACTIVE_RES_OCCUPANCY_COUNT WARD_2002  \\\n",
       "0                   0.0  RESIDENTIAL                        1.0    Ward 6   \n",
       "1                   0.0  RESIDENTIAL                        1.0    Ward 6   \n",
       "2                   1.0  RESIDENTIAL                        2.0    Ward 6   \n",
       "\n",
       "  WARD_2012 ANC_2002 ANC_2012  SMD_2002  SMD_2012  \n",
       "0    Ward 6   ANC 6C   ANC 6C  SMD 6C07  SMD 6C03  \n",
       "1    Ward 6   ANC 6C   ANC 6C  SMD 6C07  SMD 6C03  \n",
       "2    Ward 6   ANC 6C   ANC 6C  SMD 6C07  SMD 6C03  \n",
       "\n",
       "[3 rows x 52 columns]"
      ]
     },
     "execution_count": 2,
     "metadata": {},
     "output_type": "execute_result"
    }
   ],
   "source": [
    "# list of all addresses in DC (downloaded CSV):\n",
    "address=pd.read_csv('data/Address_Points.csv', dtype={'ZIPCODE': object})\n",
    "print(address.shape)\n",
    "address.head(3)"
   ]
  },
  {
   "cell_type": "code",
   "execution_count": 3,
   "metadata": {},
   "outputs": [
    {
     "data": {
      "text/plain": [
       "Index(['X', 'Y', 'OBJECTID_12', 'SITE_ADDRESS_PK', 'ADDRESS_ID', 'STATUS',\n",
       "       'SSL', 'TYPE_', 'ENTRANCETYPE', 'ADDRNUM', 'ADDRNUMSUFFIX', 'STNAME',\n",
       "       'STREET_TYPE', 'QUADRANT', 'CITY', 'STATE', 'FULLADDRESS', 'SQUARE',\n",
       "       'SUFFIX', 'LOT', 'NATIONALGRID', 'ASSESSMENT_NBHD',\n",
       "       'ASSESSMENT_SUBNBHD', 'CFSA_NAME', 'HOTSPOT', 'CLUSTER_', 'POLDIST',\n",
       "       'ROC', 'PSA', 'SMD', 'CENSUS_TRACT', 'VOTE_PRCNCT', 'WARD', 'ZIPCODE',\n",
       "       'ANC', 'NEWCOMMSELECT06', 'NEWCOMMCANDIDATE', 'CENSUS_BLOCK',\n",
       "       'CENSUS_BLOCKGROUP', 'FOCUS_IMPROVEMENT_AREA', 'SE_ANNO_CAD_DATA',\n",
       "       'LATITUDE', 'LONGITUDE', 'ACTIVE_RES_UNIT_COUNT', 'RES_TYPE',\n",
       "       'ACTIVE_RES_OCCUPANCY_COUNT', 'WARD_2002', 'WARD_2012', 'ANC_2002',\n",
       "       'ANC_2012', 'SMD_2002', 'SMD_2012'],\n",
       "      dtype='object')"
      ]
     },
     "execution_count": 3,
     "metadata": {},
     "output_type": "execute_result"
    }
   ],
   "source": [
    "# It has a lot of columns, but most of them we won't be using.\n",
    "address.columns"
   ]
  },
  {
   "cell_type": "code",
   "execution_count": 4,
   "metadata": {},
   "outputs": [
    {
     "data": {
      "text/html": [
       "<div>\n",
       "<style>\n",
       "    .dataframe thead tr:only-child th {\n",
       "        text-align: right;\n",
       "    }\n",
       "\n",
       "    .dataframe thead th {\n",
       "        text-align: left;\n",
       "    }\n",
       "\n",
       "    .dataframe tbody tr th {\n",
       "        vertical-align: top;\n",
       "    }\n",
       "</style>\n",
       "<table border=\"1\" class=\"dataframe\">\n",
       "  <thead>\n",
       "    <tr style=\"text-align: right;\">\n",
       "      <th></th>\n",
       "      <th>LATITUDE</th>\n",
       "      <th>LONGITUDE</th>\n",
       "      <th>FULLADDRESS</th>\n",
       "      <th>ZIPCODE</th>\n",
       "      <th>ACTIVE_RES_UNIT_COUNT</th>\n",
       "      <th>ASSESSMENT_NBHD</th>\n",
       "      <th>ASSESSMENT_SUBNBHD</th>\n",
       "      <th>CLUSTER_</th>\n",
       "      <th>WARD</th>\n",
       "    </tr>\n",
       "  </thead>\n",
       "  <tbody>\n",
       "    <tr>\n",
       "      <th>0</th>\n",
       "      <td>38.892188</td>\n",
       "      <td>-77.000351</td>\n",
       "      <td>402 CONSTITUTION AVENUE NE</td>\n",
       "      <td>20002</td>\n",
       "      <td>0.0</td>\n",
       "      <td>Capitol Hill</td>\n",
       "      <td>009 C Capitol Hill</td>\n",
       "      <td>Cluster 25</td>\n",
       "      <td>Ward 6</td>\n",
       "    </tr>\n",
       "    <tr>\n",
       "      <th>1</th>\n",
       "      <td>38.892645</td>\n",
       "      <td>-76.999247</td>\n",
       "      <td>219 5TH STREET NE</td>\n",
       "      <td>20002</td>\n",
       "      <td>0.0</td>\n",
       "      <td>Capitol Hill</td>\n",
       "      <td>009 C Capitol Hill</td>\n",
       "      <td>Cluster 25</td>\n",
       "      <td>Ward 6</td>\n",
       "    </tr>\n",
       "    <tr>\n",
       "      <th>2</th>\n",
       "      <td>38.892557</td>\n",
       "      <td>-76.999733</td>\n",
       "      <td>216 5TH STREET NE</td>\n",
       "      <td>20002</td>\n",
       "      <td>1.0</td>\n",
       "      <td>Capitol Hill</td>\n",
       "      <td>009 C Capitol Hill</td>\n",
       "      <td>Cluster 25</td>\n",
       "      <td>Ward 6</td>\n",
       "    </tr>\n",
       "    <tr>\n",
       "      <th>3</th>\n",
       "      <td>38.892538</td>\n",
       "      <td>-76.999229</td>\n",
       "      <td>215 5TH STREET NE</td>\n",
       "      <td>20002</td>\n",
       "      <td>0.0</td>\n",
       "      <td>Capitol Hill</td>\n",
       "      <td>009 C Capitol Hill</td>\n",
       "      <td>Cluster 25</td>\n",
       "      <td>Ward 6</td>\n",
       "    </tr>\n",
       "    <tr>\n",
       "      <th>4</th>\n",
       "      <td>38.892187</td>\n",
       "      <td>-76.997459</td>\n",
       "      <td>626 CONSTITUTION AVENUE NE</td>\n",
       "      <td>20002</td>\n",
       "      <td>1.0</td>\n",
       "      <td>Capitol Hill</td>\n",
       "      <td>009 C Capitol Hill</td>\n",
       "      <td>Cluster 25</td>\n",
       "      <td>Ward 6</td>\n",
       "    </tr>\n",
       "  </tbody>\n",
       "</table>\n",
       "</div>"
      ],
      "text/plain": [
       "    LATITUDE  LONGITUDE                 FULLADDRESS ZIPCODE  \\\n",
       "0  38.892188 -77.000351  402 CONSTITUTION AVENUE NE   20002   \n",
       "1  38.892645 -76.999247           219 5TH STREET NE   20002   \n",
       "2  38.892557 -76.999733           216 5TH STREET NE   20002   \n",
       "3  38.892538 -76.999229           215 5TH STREET NE   20002   \n",
       "4  38.892187 -76.997459  626 CONSTITUTION AVENUE NE   20002   \n",
       "\n",
       "   ACTIVE_RES_UNIT_COUNT ASSESSMENT_NBHD  ASSESSMENT_SUBNBHD    CLUSTER_  \\\n",
       "0                    0.0    Capitol Hill  009 C Capitol Hill  Cluster 25   \n",
       "1                    0.0    Capitol Hill  009 C Capitol Hill  Cluster 25   \n",
       "2                    1.0    Capitol Hill  009 C Capitol Hill  Cluster 25   \n",
       "3                    0.0    Capitol Hill  009 C Capitol Hill  Cluster 25   \n",
       "4                    1.0    Capitol Hill  009 C Capitol Hill  Cluster 25   \n",
       "\n",
       "     WARD  \n",
       "0  Ward 6  \n",
       "1  Ward 6  \n",
       "2  Ward 6  \n",
       "3  Ward 6  \n",
       "4  Ward 6  "
      ]
     },
     "execution_count": 4,
     "metadata": {},
     "output_type": "execute_result"
    }
   ],
   "source": [
    "# These are the columns we're interested in.\n",
    "dc_address=address[['LATITUDE', 'LONGITUDE','FULLADDRESS','ZIPCODE','ACTIVE_RES_UNIT_COUNT','ASSESSMENT_NBHD', 'ASSESSMENT_SUBNBHD', 'CLUSTER_', 'WARD']]\n",
    "dc_address.head()"
   ]
  },
  {
   "cell_type": "markdown",
   "metadata": {},
   "source": [
    "## Missing Data"
   ]
  },
  {
   "cell_type": "code",
   "execution_count": 5,
   "metadata": {},
   "outputs": [
    {
     "data": {
      "text/plain": [
       "LATITUDE                     0\n",
       "LONGITUDE                    0\n",
       "FULLADDRESS               1900\n",
       "ZIPCODE                     18\n",
       "ACTIVE_RES_UNIT_COUNT        1\n",
       "ASSESSMENT_NBHD             60\n",
       "ASSESSMENT_SUBNBHD       26871\n",
       "CLUSTER_                  3123\n",
       "WARD                         2\n",
       "dtype: int64"
      ]
     },
     "execution_count": 5,
     "metadata": {},
     "output_type": "execute_result"
    }
   ],
   "source": [
    "# Any missing data on lat-long? that's the most important variable.\n",
    "dc_address.isnull().sum()"
   ]
  },
  {
   "cell_type": "markdown",
   "metadata": {},
   "source": [
    "## Neighborhood clusters"
   ]
  },
  {
   "cell_type": "code",
   "execution_count": 6,
   "metadata": {},
   "outputs": [
    {
     "name": "stdout",
     "output_type": "stream",
     "text": [
      "39\n"
     ]
    },
    {
     "data": {
      "text/plain": [
       "Cluster 21     6352\n",
       "Cluster 2      7500\n",
       "Cluster 26     9057\n",
       "Cluster 25     9179\n",
       "Cluster 18    10214\n",
       "Name: CLUSTER_, dtype: int64"
      ]
     },
     "execution_count": 6,
     "metadata": {},
     "output_type": "execute_result"
    }
   ],
   "source": [
    "# There are 39 Neighborhood clusters. \n",
    "# One of them (18 - Brightwood Park, Crestwood, Petworth) has about 10,000 dc_addresses in it.\n",
    "print(len(dc_address['CLUSTER_'].value_counts()))\n",
    "dc_address['CLUSTER_'].value_counts().sort_values().tail()"
   ]
  },
  {
   "cell_type": "code",
   "execution_count": 7,
   "metadata": {},
   "outputs": [
    {
     "data": {
      "text/plain": [
       "27     Cluster 1\n",
       "11    Cluster 10\n",
       "14    Cluster 11\n",
       "33    Cluster 12\n",
       "10    Cluster 13\n",
       "Name: 0, dtype: object"
      ]
     },
     "execution_count": 7,
     "metadata": {},
     "output_type": "execute_result"
    }
   ],
   "source": [
    "# Clusters are numbered from 1 to 39 in alpha order.\n",
    "clusters=pd.DataFrame(list(dc_address['CLUSTER_'].value_counts().index))\n",
    "clusters[0].sort_values().head()"
   ]
  },
  {
   "cell_type": "code",
   "execution_count": 8,
   "metadata": {},
   "outputs": [
    {
     "name": "stdout",
     "output_type": "stream",
     "text": [
      "1.5780443870441492\n"
     ]
    },
    {
     "data": {
      "text/plain": [
       "CLUSTER_\n",
       "Cluster 5     13.405814\n",
       "Cluster 8      7.243298\n",
       "Cluster 1      5.305741\n",
       "Cluster 12     4.862490\n",
       "Cluster 14     4.840823\n",
       "Name: ACTIVE_RES_UNIT_COUNT, dtype: float64"
      ]
     },
     "execution_count": 8,
     "metadata": {},
     "output_type": "execute_result"
    }
   ],
   "source": [
    "# The mean number of residential units which are associated with each dc_address.\n",
    "print(dc_address['ACTIVE_RES_UNIT_COUNT'].mean())\n",
    "dc_address.groupby(['CLUSTER_'])['ACTIVE_RES_UNIT_COUNT'].mean().sort_values(ascending=False).head()\n",
    "# Cluster 5 (West End, Foggy Bottom, GWU) has 13 residential units associated with the average dc_address (must be GW)"
   ]
  },
  {
   "cell_type": "markdown",
   "metadata": {},
   "source": [
    "## Tax-assessment neighborhoods"
   ]
  },
  {
   "cell_type": "code",
   "execution_count": 9,
   "metadata": {},
   "outputs": [
    {
     "name": "stdout",
     "output_type": "stream",
     "text": [
      "(3934, 9)\n",
      "(489, 9)\n"
     ]
    }
   ],
   "source": [
    "# There are also columns indicating the tax-assessment neighborhood and sub-neighborhood. Here's an example.\n",
    "print(dc_address[dc_address['ASSESSMENT_NBHD']=='Georgetown'].shape)\n",
    "print(dc_address[dc_address['ASSESSMENT_SUBNBHD']=='025 D Georgetown'].shape)"
   ]
  },
  {
   "cell_type": "code",
   "execution_count": 10,
   "metadata": {},
   "outputs": [
    {
     "name": "stdout",
     "output_type": "stream",
     "text": [
      "(147116,)\n",
      "70\n"
     ]
    },
    {
     "data": {
      "text/plain": [
       "Old City 1          15623\n",
       "Old City 2           8830\n",
       "Deanwood             7552\n",
       "Columbia Heights     7112\n",
       "Brookland            7014\n",
       "Name: ASSESSMENT_NBHD, dtype: int64"
      ]
     },
     "execution_count": 10,
     "metadata": {},
     "output_type": "execute_result"
    }
   ],
   "source": [
    "# There are 70 unique assessment neighborhoods.\n",
    "print(dc_address['ASSESSMENT_NBHD'].shape)\n",
    "print(len(dc_address['ASSESSMENT_NBHD'].value_counts()))\n",
    "dc_address['ASSESSMENT_NBHD'].value_counts(ascending=False).head()\n",
    "# Old City 1 includes everything from Dupont Circle through NOMA. #2 is Eastern Market to RFK Stadium."
   ]
  },
  {
   "cell_type": "code",
   "execution_count": 11,
   "metadata": {},
   "outputs": [
    {
     "name": "stdout",
     "output_type": "stream",
     "text": [
      "60\n",
      "                FULLADDRESS ASSESSMENT_NBHD\n",
      "12097                   NaN             NaN\n",
      "61095                   NaN             NaN\n",
      "77049                   NaN             NaN\n",
      "84212   600 WATER STREET SW             NaN\n",
      "100037                  NaN             NaN\n",
      "(147056, 9)\n"
     ]
    },
    {
     "name": "stderr",
     "output_type": "stream",
     "text": [
      "/Users/austinlasseter/anaconda3/lib/python3.6/site-packages/ipykernel/__main__.py:4: SettingWithCopyWarning: \n",
      "A value is trying to be set on a copy of a slice from a DataFrame\n",
      "\n",
      "See the caveats in the documentation: http://pandas.pydata.org/pandas-docs/stable/indexing.html#indexing-view-versus-copy\n"
     ]
    }
   ],
   "source": [
    "# There are 60 missing values.\n",
    "print(dc_address['ASSESSMENT_NBHD'].isnull().sum())\n",
    "print(dc_address[dc_address['ASSESSMENT_NBHD'].isnull()][['FULLADDRESS', 'ASSESSMENT_NBHD']].head()) # Most don't even have full addresses.\n",
    "dc_address.dropna(subset = ['ASSESSMENT_NBHD'], inplace=True) # Delete them.\n",
    "print(dc_address.shape)"
   ]
  },
  {
   "cell_type": "code",
   "execution_count": 12,
   "metadata": {},
   "outputs": [
    {
     "name": "stdout",
     "output_type": "stream",
     "text": [
      "Old City 1          15623\n",
      "Old City 2           8830\n",
      "Deanwood             7552\n",
      "Columbia Heights     7112\n",
      "Brookland            7014\n",
      "Name: ASSESSMENT_NBHD, dtype: int64\n",
      "National Zoological Park     50\n",
      "National Arboretum           22\n",
      "Anacostia Park               16\n",
      "Fort Drive                    2\n",
      "Glover - Archbold Parkway     2\n",
      "Name: ASSESSMENT_NBHD, dtype: int64\n"
     ]
    }
   ],
   "source": [
    "# Some of the neighorhoods have a lot of addresses, and some are really short.\n",
    "print(dc_address['ASSESSMENT_NBHD'].value_counts().sort_values(ascending=False).head())\n",
    "print(dc_address['ASSESSMENT_NBHD'].value_counts().sort_values(ascending=False).tail())"
   ]
  },
  {
   "cell_type": "code",
   "execution_count": 13,
   "metadata": {},
   "outputs": [
    {
     "name": "stdout",
     "output_type": "stream",
     "text": [
      "121\n",
      "26811\n"
     ]
    }
   ],
   "source": [
    "# There's also another variable, called \"sub-neighborhood\", with 121 values. It has a lot of missing data.\n",
    "print(dc_address['ASSESSMENT_SUBNBHD'].nunique())\n",
    "print(dc_address['ASSESSMENT_SUBNBHD'].isnull().sum())"
   ]
  },
  {
   "cell_type": "code",
   "execution_count": 14,
   "metadata": {},
   "outputs": [
    {
     "name": "stderr",
     "output_type": "stream",
     "text": [
      "/Users/austinlasseter/anaconda3/lib/python3.6/site-packages/ipykernel/__main__.py:2: SettingWithCopyWarning: \n",
      "A value is trying to be set on a copy of a slice from a DataFrame\n",
      "\n",
      "See the caveats in the documentation: http://pandas.pydata.org/pandas-docs/stable/indexing.html#indexing-view-versus-copy\n",
      "  from ipykernel import kernelapp as app\n"
     ]
    }
   ],
   "source": [
    "# I'd like to use 'sub' by imputing the major neighborhood where missing, but it's too labor-intensive for now.\n",
    "dc_address.drop(['ASSESSMENT_SUBNBHD'], axis=1, inplace=True)"
   ]
  },
  {
   "cell_type": "markdown",
   "metadata": {},
   "source": [
    "## Sort neighborhoods by total number of addresses"
   ]
  },
  {
   "cell_type": "code",
   "execution_count": 15,
   "metadata": {},
   "outputs": [
    {
     "name": "stdout",
     "output_type": "stream",
     "text": [
      "(70, 2)\n"
     ]
    },
    {
     "data": {
      "text/html": [
       "<div>\n",
       "<style>\n",
       "    .dataframe thead tr:only-child th {\n",
       "        text-align: right;\n",
       "    }\n",
       "\n",
       "    .dataframe thead th {\n",
       "        text-align: left;\n",
       "    }\n",
       "\n",
       "    .dataframe tbody tr th {\n",
       "        vertical-align: top;\n",
       "    }\n",
       "</style>\n",
       "<table border=\"1\" class=\"dataframe\">\n",
       "  <thead>\n",
       "    <tr style=\"text-align: right;\">\n",
       "      <th></th>\n",
       "      <th>ASSESSMENT_NBHD</th>\n",
       "      <th>Units</th>\n",
       "    </tr>\n",
       "  </thead>\n",
       "  <tbody>\n",
       "    <tr>\n",
       "      <th>0</th>\n",
       "      <td>Old City 1</td>\n",
       "      <td>15623</td>\n",
       "    </tr>\n",
       "    <tr>\n",
       "      <th>1</th>\n",
       "      <td>Old City 2</td>\n",
       "      <td>8830</td>\n",
       "    </tr>\n",
       "    <tr>\n",
       "      <th>2</th>\n",
       "      <td>Deanwood</td>\n",
       "      <td>7552</td>\n",
       "    </tr>\n",
       "    <tr>\n",
       "      <th>3</th>\n",
       "      <td>Columbia Heights</td>\n",
       "      <td>7112</td>\n",
       "    </tr>\n",
       "    <tr>\n",
       "      <th>4</th>\n",
       "      <td>Brookland</td>\n",
       "      <td>7014</td>\n",
       "    </tr>\n",
       "  </tbody>\n",
       "</table>\n",
       "</div>"
      ],
      "text/plain": [
       "    ASSESSMENT_NBHD  Units\n",
       "0        Old City 1  15623\n",
       "1        Old City 2   8830\n",
       "2          Deanwood   7552\n",
       "3  Columbia Heights   7112\n",
       "4         Brookland   7014"
      ]
     },
     "execution_count": 15,
     "metadata": {},
     "output_type": "execute_result"
    }
   ],
   "source": [
    "# Make dataframe of neighborhoods that includes each neighborhood's total number of addresses.\n",
    "units=pd.DataFrame(dc_address['ASSESSMENT_NBHD'].value_counts().sort_values(ascending=False).reset_index())\n",
    "print(units.shape)\n",
    "units.columns=['ASSESSMENT_NBHD', 'Units']\n",
    "units.head(5)"
   ]
  },
  {
   "cell_type": "code",
   "execution_count": 16,
   "metadata": {},
   "outputs": [
    {
     "name": "stdout",
     "output_type": "stream",
     "text": [
      "(70, 2)\n"
     ]
    },
    {
     "data": {
      "text/html": [
       "<div>\n",
       "<style>\n",
       "    .dataframe thead tr:only-child th {\n",
       "        text-align: right;\n",
       "    }\n",
       "\n",
       "    .dataframe thead th {\n",
       "        text-align: left;\n",
       "    }\n",
       "\n",
       "    .dataframe tbody tr th {\n",
       "        vertical-align: top;\n",
       "    }\n",
       "</style>\n",
       "<table border=\"1\" class=\"dataframe\">\n",
       "  <thead>\n",
       "    <tr style=\"text-align: right;\">\n",
       "      <th></th>\n",
       "      <th>ASSESSMENT_NBHD</th>\n",
       "      <th>Units</th>\n",
       "    </tr>\n",
       "  </thead>\n",
       "  <tbody>\n",
       "    <tr>\n",
       "      <th>0</th>\n",
       "      <td>Old City 1</td>\n",
       "      <td>15623</td>\n",
       "    </tr>\n",
       "    <tr>\n",
       "      <th>1</th>\n",
       "      <td>Old City 2</td>\n",
       "      <td>8830</td>\n",
       "    </tr>\n",
       "    <tr>\n",
       "      <th>2</th>\n",
       "      <td>Deanwood</td>\n",
       "      <td>7552</td>\n",
       "    </tr>\n",
       "    <tr>\n",
       "      <th>3</th>\n",
       "      <td>Columbia Heights</td>\n",
       "      <td>7112</td>\n",
       "    </tr>\n",
       "    <tr>\n",
       "      <th>4</th>\n",
       "      <td>Brookland</td>\n",
       "      <td>7014</td>\n",
       "    </tr>\n",
       "  </tbody>\n",
       "</table>\n",
       "</div>"
      ],
      "text/plain": [
       "    ASSESSMENT_NBHD  Units\n",
       "0        Old City 1  15623\n",
       "1        Old City 2   8830\n",
       "2          Deanwood   7552\n",
       "3  Columbia Heights   7112\n",
       "4         Brookland   7014"
      ]
     },
     "execution_count": 16,
     "metadata": {},
     "output_type": "execute_result"
    }
   ],
   "source": [
    "# Here's another way to do exactly the same thing, only keeping the neighborhood as a column.\n",
    "hoods=pd.DataFrame(address.groupby(['ASSESSMENT_NBHD'])['X'].count().sort_values(ascending=False).reset_index())\n",
    "hoods.columns=['ASSESSMENT_NBHD', 'Units']\n",
    "print(hoods.shape)\n",
    "hoods.head()"
   ]
  },
  {
   "cell_type": "code",
   "execution_count": 17,
   "metadata": {},
   "outputs": [
    {
     "name": "stdout",
     "output_type": "stream",
     "text": [
      "              ASSESSMENT_NBHD  Units\n",
      "60                 DC Village    145\n",
      "61   St. Elizabeth's Hospital    105\n",
      "62            Rock Creek Park     88\n",
      "63                 Ft. McNair     59\n",
      "64            DC Stadium Area     57\n",
      "65   National Zoological Park     50\n",
      "66         National Arboretum     22\n",
      "67             Anacostia Park     16\n",
      "68                 Fort Drive      2\n",
      "69  Glover - Archbold Parkway      2\n"
     ]
    },
    {
     "data": {
      "text/html": [
       "<div>\n",
       "<style>\n",
       "    .dataframe thead tr:only-child th {\n",
       "        text-align: right;\n",
       "    }\n",
       "\n",
       "    .dataframe thead th {\n",
       "        text-align: left;\n",
       "    }\n",
       "\n",
       "    .dataframe tbody tr th {\n",
       "        vertical-align: top;\n",
       "    }\n",
       "</style>\n",
       "<table border=\"1\" class=\"dataframe\">\n",
       "  <thead>\n",
       "    <tr style=\"text-align: right;\">\n",
       "      <th></th>\n",
       "      <th>ASSESSMENT_NBHD</th>\n",
       "      <th>Units</th>\n",
       "    </tr>\n",
       "  </thead>\n",
       "  <tbody>\n",
       "    <tr>\n",
       "      <th>32</th>\n",
       "      <td>Glover Park</td>\n",
       "      <td>1199</td>\n",
       "    </tr>\n",
       "  </tbody>\n",
       "</table>\n",
       "</div>"
      ],
      "text/plain": [
       "   ASSESSMENT_NBHD  Units\n",
       "32     Glover Park   1199"
      ]
     },
     "execution_count": 17,
     "metadata": {},
     "output_type": "execute_result"
    }
   ],
   "source": [
    "# Which neighborhood has the smallest number of address units?\n",
    "print(hoods.tail(10))\n",
    "# That doesn't sound right. Glover park has more than 2 houses.\n",
    "hoods[hoods['ASSESSMENT_NBHD']=='Glover Park'] # Got it. It's something different."
   ]
  },
  {
   "cell_type": "markdown",
   "metadata": {},
   "source": [
    "Glover-Archbold Parkway is not the same as Glover Park.  \n",
    "https://www.washingtonpost.com/archive/local/1991/12/12/goodbye-glover-archbold-parkway/0a64bf30-1517-4e0c-b332-599954be9bf6/?utm_term=.460f395fae08"
   ]
  },
  {
   "cell_type": "markdown",
   "metadata": {},
   "source": [
    "## Sort neighborhoods by average number of residential units"
   ]
  },
  {
   "cell_type": "code",
   "execution_count": 18,
   "metadata": {},
   "outputs": [
    {
     "name": "stdout",
     "output_type": "stream",
     "text": [
      "(70, 2)\n"
     ]
    },
    {
     "data": {
      "text/html": [
       "<div>\n",
       "<style>\n",
       "    .dataframe thead tr:only-child th {\n",
       "        text-align: right;\n",
       "    }\n",
       "\n",
       "    .dataframe thead th {\n",
       "        text-align: left;\n",
       "    }\n",
       "\n",
       "    .dataframe tbody tr th {\n",
       "        vertical-align: top;\n",
       "    }\n",
       "</style>\n",
       "<table border=\"1\" class=\"dataframe\">\n",
       "  <thead>\n",
       "    <tr style=\"text-align: right;\">\n",
       "      <th></th>\n",
       "      <th>ASSESSMENT_NBHD</th>\n",
       "      <th>Residential</th>\n",
       "    </tr>\n",
       "  </thead>\n",
       "  <tbody>\n",
       "    <tr>\n",
       "      <th>0</th>\n",
       "      <td>16th Street Heights</td>\n",
       "      <td>0.737374</td>\n",
       "    </tr>\n",
       "    <tr>\n",
       "      <th>1</th>\n",
       "      <td>American University</td>\n",
       "      <td>0.308203</td>\n",
       "    </tr>\n",
       "    <tr>\n",
       "      <th>2</th>\n",
       "      <td>Anacostia</td>\n",
       "      <td>1.158228</td>\n",
       "    </tr>\n",
       "    <tr>\n",
       "      <th>3</th>\n",
       "      <td>Anacostia Park</td>\n",
       "      <td>0.000000</td>\n",
       "    </tr>\n",
       "    <tr>\n",
       "      <th>4</th>\n",
       "      <td>Barry Farms</td>\n",
       "      <td>2.084581</td>\n",
       "    </tr>\n",
       "  </tbody>\n",
       "</table>\n",
       "</div>"
      ],
      "text/plain": [
       "       ASSESSMENT_NBHD  Residential\n",
       "0  16th Street Heights     0.737374\n",
       "1  American University     0.308203\n",
       "2            Anacostia     1.158228\n",
       "3       Anacostia Park     0.000000\n",
       "4          Barry Farms     2.084581"
      ]
     },
     "execution_count": 18,
     "metadata": {},
     "output_type": "execute_result"
    }
   ],
   "source": [
    "# I also want to keep the neighborhood's average number of residential units per address.\n",
    "residents=address.groupby(['ASSESSMENT_NBHD'], as_index=False)['ACTIVE_RES_UNIT_COUNT'].mean()\n",
    "print(residents.shape)\n",
    "residents.columns=['ASSESSMENT_NBHD', 'Residential']\n",
    "residents.head()"
   ]
  },
  {
   "cell_type": "markdown",
   "metadata": {},
   "source": [
    "## Merging Datasets"
   ]
  },
  {
   "cell_type": "code",
   "execution_count": 19,
   "metadata": {},
   "outputs": [
    {
     "name": "stdout",
     "output_type": "stream",
     "text": [
      "(70, 2)\n",
      "(70, 2)\n",
      "(70, 3)\n"
     ]
    },
    {
     "data": {
      "text/html": [
       "<div>\n",
       "<style>\n",
       "    .dataframe thead tr:only-child th {\n",
       "        text-align: right;\n",
       "    }\n",
       "\n",
       "    .dataframe thead th {\n",
       "        text-align: left;\n",
       "    }\n",
       "\n",
       "    .dataframe tbody tr th {\n",
       "        vertical-align: top;\n",
       "    }\n",
       "</style>\n",
       "<table border=\"1\" class=\"dataframe\">\n",
       "  <thead>\n",
       "    <tr style=\"text-align: right;\">\n",
       "      <th></th>\n",
       "      <th>ASSESSMENT_NBHD</th>\n",
       "      <th>Units</th>\n",
       "      <th>Residential</th>\n",
       "    </tr>\n",
       "  </thead>\n",
       "  <tbody>\n",
       "    <tr>\n",
       "      <th>0</th>\n",
       "      <td>Old City 1</td>\n",
       "      <td>15623</td>\n",
       "      <td>0.999232</td>\n",
       "    </tr>\n",
       "    <tr>\n",
       "      <th>1</th>\n",
       "      <td>Old City 2</td>\n",
       "      <td>8830</td>\n",
       "      <td>3.899989</td>\n",
       "    </tr>\n",
       "    <tr>\n",
       "      <th>2</th>\n",
       "      <td>Deanwood</td>\n",
       "      <td>7552</td>\n",
       "      <td>0.732256</td>\n",
       "    </tr>\n",
       "    <tr>\n",
       "      <th>3</th>\n",
       "      <td>Columbia Heights</td>\n",
       "      <td>7112</td>\n",
       "      <td>2.547103</td>\n",
       "    </tr>\n",
       "    <tr>\n",
       "      <th>4</th>\n",
       "      <td>Brookland</td>\n",
       "      <td>7014</td>\n",
       "      <td>1.258055</td>\n",
       "    </tr>\n",
       "  </tbody>\n",
       "</table>\n",
       "</div>"
      ],
      "text/plain": [
       "    ASSESSMENT_NBHD  Units  Residential\n",
       "0        Old City 1  15623     0.999232\n",
       "1        Old City 2   8830     3.899989\n",
       "2          Deanwood   7552     0.732256\n",
       "3  Columbia Heights   7112     2.547103\n",
       "4         Brookland   7014     1.258055"
      ]
     },
     "execution_count": 19,
     "metadata": {},
     "output_type": "execute_result"
    }
   ],
   "source": [
    "# Bring those two datasets together.\n",
    "hoods2=pd.merge(units, residents, on='ASSESSMENT_NBHD')\n",
    "print(units.shape)\n",
    "print(residents.shape)\n",
    "print(hoods2.shape)\n",
    "hoods2.head()"
   ]
  },
  {
   "cell_type": "code",
   "execution_count": 20,
   "metadata": {},
   "outputs": [
    {
     "name": "stdout",
     "output_type": "stream",
     "text": [
      "(70, 3)\n",
      "(147056, 8)\n",
      "(147056, 9)\n"
     ]
    },
    {
     "data": {
      "text/html": [
       "<div>\n",
       "<style>\n",
       "    .dataframe thead tr:only-child th {\n",
       "        text-align: right;\n",
       "    }\n",
       "\n",
       "    .dataframe thead th {\n",
       "        text-align: left;\n",
       "    }\n",
       "\n",
       "    .dataframe tbody tr th {\n",
       "        vertical-align: top;\n",
       "    }\n",
       "</style>\n",
       "<table border=\"1\" class=\"dataframe\">\n",
       "  <thead>\n",
       "    <tr style=\"text-align: right;\">\n",
       "      <th></th>\n",
       "      <th>LATITUDE</th>\n",
       "      <th>LONGITUDE</th>\n",
       "      <th>FULLADDRESS</th>\n",
       "      <th>ZIPCODE</th>\n",
       "      <th>ASSESSMENT_NBHD</th>\n",
       "      <th>CLUSTER_</th>\n",
       "      <th>WARD</th>\n",
       "      <th>Units</th>\n",
       "      <th>Residential</th>\n",
       "    </tr>\n",
       "  </thead>\n",
       "  <tbody>\n",
       "    <tr>\n",
       "      <th>147053</th>\n",
       "      <td>38.902210</td>\n",
       "      <td>-77.016901</td>\n",
       "      <td>420 K STREET NW</td>\n",
       "      <td>20001</td>\n",
       "      <td>Old City 2</td>\n",
       "      <td>Cluster 8</td>\n",
       "      <td>Ward 6</td>\n",
       "      <td>8830</td>\n",
       "      <td>3.899989</td>\n",
       "    </tr>\n",
       "    <tr>\n",
       "      <th>147054</th>\n",
       "      <td>38.862675</td>\n",
       "      <td>-76.989665</td>\n",
       "      <td>1305 MAPLE VIEW PLACE SE</td>\n",
       "      <td>20020</td>\n",
       "      <td>Anacostia</td>\n",
       "      <td>Cluster 28</td>\n",
       "      <td>Ward 8</td>\n",
       "      <td>2212</td>\n",
       "      <td>1.158228</td>\n",
       "    </tr>\n",
       "    <tr>\n",
       "      <th>147055</th>\n",
       "      <td>38.897146</td>\n",
       "      <td>-77.030827</td>\n",
       "      <td>1332 F STREET NW</td>\n",
       "      <td>20045</td>\n",
       "      <td>Central-tri 3</td>\n",
       "      <td>Cluster 8</td>\n",
       "      <td>Ward 2</td>\n",
       "      <td>1118</td>\n",
       "      <td>6.292487</td>\n",
       "    </tr>\n",
       "  </tbody>\n",
       "</table>\n",
       "</div>"
      ],
      "text/plain": [
       "         LATITUDE  LONGITUDE               FULLADDRESS ZIPCODE  \\\n",
       "147053  38.902210 -77.016901           420 K STREET NW   20001   \n",
       "147054  38.862675 -76.989665  1305 MAPLE VIEW PLACE SE   20020   \n",
       "147055  38.897146 -77.030827          1332 F STREET NW   20045   \n",
       "\n",
       "       ASSESSMENT_NBHD    CLUSTER_    WARD  Units  Residential  \n",
       "147053      Old City 2   Cluster 8  Ward 6   8830     3.899989  \n",
       "147054       Anacostia  Cluster 28  Ward 8   2212     1.158228  \n",
       "147055   Central-tri 3   Cluster 8  Ward 2   1118     6.292487  "
      ]
     },
     "execution_count": 20,
     "metadata": {},
     "output_type": "execute_result"
    }
   ],
   "source": [
    "# Now merge the neighborhood data back into the address dataframe\n",
    "df=pd.merge(dc_address, hoods2, on='ASSESSMENT_NBHD', how='left').drop(['ACTIVE_RES_UNIT_COUNT'], axis=1)\n",
    "print(hoods2.shape)\n",
    "print(dc_address.shape) \n",
    "print(df.shape) # the number of rows should stay the same. 1 column should be added.\n",
    "df.tail(3)"
   ]
  },
  {
   "cell_type": "markdown",
   "metadata": {},
   "source": [
    "## Within each neighborhood, take a sample of 25 addresses"
   ]
  },
  {
   "cell_type": "markdown",
   "metadata": {},
   "source": [
    "Note: Total number needs to be less than 5,000 so we can make API calls on Walkscore."
   ]
  },
  {
   "cell_type": "code",
   "execution_count": 21,
   "metadata": {},
   "outputs": [
    {
     "name": "stdout",
     "output_type": "stream",
     "text": [
      "(208, 9)\n",
      "(146848, 9)\n",
      "(4725, 9)\n",
      "(4933, 9)\n"
     ]
    }
   ],
   "source": [
    "# Select only those addresses located in neighborhoods 75 units or less.\n",
    "df1=df[df['Units']<=75]\n",
    "print(df1.shape)\n",
    "# Select only those addresses located in neighborhoods with more than 75 units.\n",
    "df2=df[df['Units']>75]\n",
    "print(df2.shape)\n",
    "# Within each of these neighborhoods, select 75 random samples.\n",
    "df3=df2.groupby('ASSESSMENT_NBHD').apply(lambda x: x.sample(75)).reset_index(drop=True)\n",
    "print(df3.shape)\n",
    "# Merge df1 and df3 back together.\n",
    "df4=pd.concat([df1, df3], axis=0)\n",
    "print(df4.shape)"
   ]
  },
  {
   "cell_type": "code",
   "execution_count": 22,
   "metadata": {},
   "outputs": [
    {
     "data": {
      "text/html": [
       "<div>\n",
       "<style>\n",
       "    .dataframe thead tr:only-child th {\n",
       "        text-align: right;\n",
       "    }\n",
       "\n",
       "    .dataframe thead th {\n",
       "        text-align: left;\n",
       "    }\n",
       "\n",
       "    .dataframe tbody tr th {\n",
       "        vertical-align: top;\n",
       "    }\n",
       "</style>\n",
       "<table border=\"1\" class=\"dataframe\">\n",
       "  <thead>\n",
       "    <tr style=\"text-align: right;\">\n",
       "      <th></th>\n",
       "      <th>LATITUDE</th>\n",
       "      <th>LONGITUDE</th>\n",
       "      <th>FULLADDRESS</th>\n",
       "      <th>ZIPCODE</th>\n",
       "      <th>CLUSTER_</th>\n",
       "      <th>WARD</th>\n",
       "      <th>Units</th>\n",
       "      <th>Residential</th>\n",
       "    </tr>\n",
       "    <tr>\n",
       "      <th>ASSESSMENT_NBHD</th>\n",
       "      <th></th>\n",
       "      <th></th>\n",
       "      <th></th>\n",
       "      <th></th>\n",
       "      <th></th>\n",
       "      <th></th>\n",
       "      <th></th>\n",
       "      <th></th>\n",
       "    </tr>\n",
       "  </thead>\n",
       "  <tbody>\n",
       "    <tr>\n",
       "      <th>16th Street Heights</th>\n",
       "      <td>75</td>\n",
       "      <td>75</td>\n",
       "      <td>75</td>\n",
       "      <td>75</td>\n",
       "      <td>75</td>\n",
       "      <td>75</td>\n",
       "      <td>75</td>\n",
       "      <td>75</td>\n",
       "    </tr>\n",
       "    <tr>\n",
       "      <th>American University</th>\n",
       "      <td>75</td>\n",
       "      <td>75</td>\n",
       "      <td>74</td>\n",
       "      <td>75</td>\n",
       "      <td>75</td>\n",
       "      <td>75</td>\n",
       "      <td>75</td>\n",
       "      <td>75</td>\n",
       "    </tr>\n",
       "    <tr>\n",
       "      <th>Anacostia</th>\n",
       "      <td>75</td>\n",
       "      <td>75</td>\n",
       "      <td>75</td>\n",
       "      <td>75</td>\n",
       "      <td>75</td>\n",
       "      <td>75</td>\n",
       "      <td>75</td>\n",
       "      <td>75</td>\n",
       "    </tr>\n",
       "    <tr>\n",
       "      <th>Anacostia Park</th>\n",
       "      <td>16</td>\n",
       "      <td>16</td>\n",
       "      <td>6</td>\n",
       "      <td>16</td>\n",
       "      <td>11</td>\n",
       "      <td>16</td>\n",
       "      <td>16</td>\n",
       "      <td>16</td>\n",
       "    </tr>\n",
       "    <tr>\n",
       "      <th>Barry Farms</th>\n",
       "      <td>75</td>\n",
       "      <td>75</td>\n",
       "      <td>75</td>\n",
       "      <td>75</td>\n",
       "      <td>75</td>\n",
       "      <td>75</td>\n",
       "      <td>75</td>\n",
       "      <td>75</td>\n",
       "    </tr>\n",
       "  </tbody>\n",
       "</table>\n",
       "</div>"
      ],
      "text/plain": [
       "                     LATITUDE  LONGITUDE  FULLADDRESS  ZIPCODE  CLUSTER_  \\\n",
       "ASSESSMENT_NBHD                                                            \n",
       "16th Street Heights        75         75           75       75        75   \n",
       "American University        75         75           74       75        75   \n",
       "Anacostia                  75         75           75       75        75   \n",
       "Anacostia Park             16         16            6       16        11   \n",
       "Barry Farms                75         75           75       75        75   \n",
       "\n",
       "                     WARD  Units  Residential  \n",
       "ASSESSMENT_NBHD                                \n",
       "16th Street Heights    75     75           75  \n",
       "American University    75     75           75  \n",
       "Anacostia              75     75           75  \n",
       "Anacostia Park         16     16           16  \n",
       "Barry Farms            75     75           75  "
      ]
     },
     "execution_count": 22,
     "metadata": {},
     "output_type": "execute_result"
    }
   ],
   "source": [
    "# Confirm that this did what we wanted it to.\n",
    "df4.groupby(['ASSESSMENT_NBHD']).count().head() # Yes, it did."
   ]
  },
  {
   "cell_type": "code",
   "execution_count": 23,
   "metadata": {},
   "outputs": [
    {
     "data": {
      "text/html": [
       "<div>\n",
       "<style>\n",
       "    .dataframe thead tr:only-child th {\n",
       "        text-align: right;\n",
       "    }\n",
       "\n",
       "    .dataframe thead th {\n",
       "        text-align: left;\n",
       "    }\n",
       "\n",
       "    .dataframe tbody tr th {\n",
       "        vertical-align: top;\n",
       "    }\n",
       "</style>\n",
       "<table border=\"1\" class=\"dataframe\">\n",
       "  <thead>\n",
       "    <tr style=\"text-align: right;\">\n",
       "      <th></th>\n",
       "      <th>LATITUDE</th>\n",
       "      <th>LONGITUDE</th>\n",
       "      <th>FULLADDRESS</th>\n",
       "      <th>ZIPCODE</th>\n",
       "      <th>ASSESSMENT_NBHD</th>\n",
       "      <th>CLUSTER_</th>\n",
       "      <th>WARD</th>\n",
       "      <th>Units</th>\n",
       "      <th>Residential</th>\n",
       "    </tr>\n",
       "  </thead>\n",
       "  <tbody>\n",
       "    <tr>\n",
       "      <th>4323</th>\n",
       "      <td>38.868832</td>\n",
       "      <td>-77.018252</td>\n",
       "      <td>221 2ND AVENUE SW</td>\n",
       "      <td>20024</td>\n",
       "      <td>Ft. McNair</td>\n",
       "      <td>Cluster 9</td>\n",
       "      <td>Ward 6</td>\n",
       "      <td>59</td>\n",
       "      <td>0.20339</td>\n",
       "    </tr>\n",
       "    <tr>\n",
       "      <th>4324</th>\n",
       "      <td>38.867563</td>\n",
       "      <td>-77.018231</td>\n",
       "      <td>241 2ND AVENUE SW</td>\n",
       "      <td>20024</td>\n",
       "      <td>Ft. McNair</td>\n",
       "      <td>Cluster 9</td>\n",
       "      <td>Ward 6</td>\n",
       "      <td>59</td>\n",
       "      <td>0.20339</td>\n",
       "    </tr>\n",
       "    <tr>\n",
       "      <th>13059</th>\n",
       "      <td>38.907499</td>\n",
       "      <td>-76.943324</td>\n",
       "      <td>4300 ANACOSTIA AVENUE NE</td>\n",
       "      <td>20019</td>\n",
       "      <td>DC Stadium Area</td>\n",
       "      <td>Cluster 29</td>\n",
       "      <td>Ward 7</td>\n",
       "      <td>57</td>\n",
       "      <td>0.00000</td>\n",
       "    </tr>\n",
       "    <tr>\n",
       "      <th>13060</th>\n",
       "      <td>38.878823</td>\n",
       "      <td>-76.975420</td>\n",
       "      <td>1900 M STREET SE</td>\n",
       "      <td>20003</td>\n",
       "      <td>Anacostia Park</td>\n",
       "      <td>Cluster 26</td>\n",
       "      <td>Ward 6</td>\n",
       "      <td>16</td>\n",
       "      <td>0.00000</td>\n",
       "    </tr>\n",
       "    <tr>\n",
       "      <th>14448</th>\n",
       "      <td>38.872694</td>\n",
       "      <td>-76.990862</td>\n",
       "      <td>1105 O STREET SE</td>\n",
       "      <td>20003</td>\n",
       "      <td>Anacostia Park</td>\n",
       "      <td>Cluster 27</td>\n",
       "      <td>Ward 6</td>\n",
       "      <td>16</td>\n",
       "      <td>0.00000</td>\n",
       "    </tr>\n",
       "  </tbody>\n",
       "</table>\n",
       "</div>"
      ],
      "text/plain": [
       "        LATITUDE  LONGITUDE               FULLADDRESS ZIPCODE  \\\n",
       "4323   38.868832 -77.018252         221 2ND AVENUE SW   20024   \n",
       "4324   38.867563 -77.018231         241 2ND AVENUE SW   20024   \n",
       "13059  38.907499 -76.943324  4300 ANACOSTIA AVENUE NE   20019   \n",
       "13060  38.878823 -76.975420          1900 M STREET SE   20003   \n",
       "14448  38.872694 -76.990862          1105 O STREET SE   20003   \n",
       "\n",
       "       ASSESSMENT_NBHD    CLUSTER_    WARD  Units  Residential  \n",
       "4323        Ft. McNair   Cluster 9  Ward 6     59      0.20339  \n",
       "4324        Ft. McNair   Cluster 9  Ward 6     59      0.20339  \n",
       "13059  DC Stadium Area  Cluster 29  Ward 7     57      0.00000  \n",
       "13060   Anacostia Park  Cluster 26  Ward 6     16      0.00000  \n",
       "14448   Anacostia Park  Cluster 27  Ward 6     16      0.00000  "
      ]
     },
     "execution_count": 23,
     "metadata": {},
     "output_type": "execute_result"
    }
   ],
   "source": [
    "# Check out the head\n",
    "df4.head()"
   ]
  },
  {
   "cell_type": "code",
   "execution_count": 24,
   "metadata": {},
   "outputs": [
    {
     "data": {
      "text/html": [
       "<div>\n",
       "<style>\n",
       "    .dataframe thead tr:only-child th {\n",
       "        text-align: right;\n",
       "    }\n",
       "\n",
       "    .dataframe thead th {\n",
       "        text-align: left;\n",
       "    }\n",
       "\n",
       "    .dataframe tbody tr th {\n",
       "        vertical-align: top;\n",
       "    }\n",
       "</style>\n",
       "<table border=\"1\" class=\"dataframe\">\n",
       "  <thead>\n",
       "    <tr style=\"text-align: right;\">\n",
       "      <th></th>\n",
       "      <th>LATITUDE</th>\n",
       "      <th>LONGITUDE</th>\n",
       "      <th>FULLADDRESS</th>\n",
       "      <th>ZIPCODE</th>\n",
       "      <th>ASSESSMENT_NBHD</th>\n",
       "      <th>CLUSTER_</th>\n",
       "      <th>WARD</th>\n",
       "      <th>Units</th>\n",
       "      <th>Residential</th>\n",
       "    </tr>\n",
       "  </thead>\n",
       "  <tbody>\n",
       "    <tr>\n",
       "      <th>4720</th>\n",
       "      <td>38.929740</td>\n",
       "      <td>-76.964123</td>\n",
       "      <td>3032 VISTA STREET NE</td>\n",
       "      <td>20018</td>\n",
       "      <td>Woodridge</td>\n",
       "      <td>Cluster 24</td>\n",
       "      <td>Ward 5</td>\n",
       "      <td>3303</td>\n",
       "      <td>0.224947</td>\n",
       "    </tr>\n",
       "    <tr>\n",
       "      <th>4721</th>\n",
       "      <td>38.925779</td>\n",
       "      <td>-76.966164</td>\n",
       "      <td>3002 FRANKLIN STREET NE</td>\n",
       "      <td>20018</td>\n",
       "      <td>Woodridge</td>\n",
       "      <td>Cluster 22</td>\n",
       "      <td>Ward 5</td>\n",
       "      <td>3303</td>\n",
       "      <td>0.224947</td>\n",
       "    </tr>\n",
       "    <tr>\n",
       "      <th>4722</th>\n",
       "      <td>38.938105</td>\n",
       "      <td>-76.971944</td>\n",
       "      <td>2401 RANDOLPH STREET NE</td>\n",
       "      <td>20018</td>\n",
       "      <td>Woodridge</td>\n",
       "      <td>Cluster 24</td>\n",
       "      <td>Ward 5</td>\n",
       "      <td>3303</td>\n",
       "      <td>0.224947</td>\n",
       "    </tr>\n",
       "    <tr>\n",
       "      <th>4723</th>\n",
       "      <td>38.929389</td>\n",
       "      <td>-76.970928</td>\n",
       "      <td>2430 IRVING STREET NE</td>\n",
       "      <td>20018</td>\n",
       "      <td>Woodridge</td>\n",
       "      <td>Cluster 22</td>\n",
       "      <td>Ward 5</td>\n",
       "      <td>3303</td>\n",
       "      <td>0.224947</td>\n",
       "    </tr>\n",
       "    <tr>\n",
       "      <th>4724</th>\n",
       "      <td>38.937437</td>\n",
       "      <td>-76.971361</td>\n",
       "      <td>3902 25TH PLACE NE</td>\n",
       "      <td>20018</td>\n",
       "      <td>Woodridge</td>\n",
       "      <td>Cluster 24</td>\n",
       "      <td>Ward 5</td>\n",
       "      <td>3303</td>\n",
       "      <td>0.224947</td>\n",
       "    </tr>\n",
       "  </tbody>\n",
       "</table>\n",
       "</div>"
      ],
      "text/plain": [
       "       LATITUDE  LONGITUDE              FULLADDRESS ZIPCODE ASSESSMENT_NBHD  \\\n",
       "4720  38.929740 -76.964123     3032 VISTA STREET NE   20018       Woodridge   \n",
       "4721  38.925779 -76.966164  3002 FRANKLIN STREET NE   20018       Woodridge   \n",
       "4722  38.938105 -76.971944  2401 RANDOLPH STREET NE   20018       Woodridge   \n",
       "4723  38.929389 -76.970928    2430 IRVING STREET NE   20018       Woodridge   \n",
       "4724  38.937437 -76.971361       3902 25TH PLACE NE   20018       Woodridge   \n",
       "\n",
       "        CLUSTER_    WARD  Units  Residential  \n",
       "4720  Cluster 24  Ward 5   3303     0.224947  \n",
       "4721  Cluster 22  Ward 5   3303     0.224947  \n",
       "4722  Cluster 24  Ward 5   3303     0.224947  \n",
       "4723  Cluster 22  Ward 5   3303     0.224947  \n",
       "4724  Cluster 24  Ward 5   3303     0.224947  "
      ]
     },
     "execution_count": 24,
     "metadata": {},
     "output_type": "execute_result"
    }
   ],
   "source": [
    "# Check out the tail\n",
    "df4.tail()"
   ]
  },
  {
   "cell_type": "code",
   "execution_count": 25,
   "metadata": {
    "collapsed": true
   },
   "outputs": [],
   "source": [
    "# Save this dataset and use it to get the mobility scores from TransitScreen in the next notebook.\n",
    "df4.to_csv('data/dc_addresses.csv',index=False)"
   ]
  },
  {
   "cell_type": "code",
   "execution_count": null,
   "metadata": {
    "collapsed": true
   },
   "outputs": [],
   "source": []
  }
 ],
 "metadata": {
  "kernelspec": {
   "display_name": "Python [conda env:anaconda3]",
   "language": "python",
   "name": "conda-env-anaconda3-py"
  },
  "language_info": {
   "codemirror_mode": {
    "name": "ipython",
    "version": 3
   },
   "file_extension": ".py",
   "mimetype": "text/x-python",
   "name": "python",
   "nbconvert_exporter": "python",
   "pygments_lexer": "ipython3",
   "version": "3.6.3"
  }
 },
 "nbformat": 4,
 "nbformat_minor": 2
}
