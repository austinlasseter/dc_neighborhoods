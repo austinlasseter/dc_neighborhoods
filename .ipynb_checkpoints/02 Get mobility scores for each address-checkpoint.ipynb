{
 "cells": [
  {
   "cell_type": "markdown",
   "metadata": {
    "collapsed": true
   },
   "source": [
    "# Getting the mobility score from transitscreen API"
   ]
  },
  {
   "cell_type": "code",
   "execution_count": 1,
   "metadata": {
    "collapsed": true
   },
   "outputs": [],
   "source": [
    "# Hat tip to John Whitesell for parts of this code."
   ]
  },
  {
   "cell_type": "code",
   "execution_count": 2,
   "metadata": {
    "collapsed": true
   },
   "outputs": [],
   "source": [
    "import pandas as pd\n",
    "from bs4 import BeautifulSoup\n",
    "import requests"
   ]
  },
  {
   "cell_type": "code",
   "execution_count": 3,
   "metadata": {},
   "outputs": [
    {
     "name": "stdout",
     "output_type": "stream",
     "text": [
      "(4933, 9)\n"
     ]
    }
   ],
   "source": [
    "# Read in the file from the previous notebook.\n",
    "df=pd.read_csv('data/dc_addresses.csv', dtype={'ZIPCODE': object})\n",
    "print(df.shape)"
   ]
  },
  {
   "cell_type": "markdown",
   "metadata": {},
   "source": [
    "## Preparing the data"
   ]
  },
  {
   "cell_type": "code",
   "execution_count": 4,
   "metadata": {
    "collapsed": true
   },
   "outputs": [],
   "source": [
    "# Combine latitude and longitude into a single variable.\n",
    "df['coordinates'] = df.apply(lambda x: (str(x.LATITUDE)+\",\"+str(x.LONGITUDE)), axis=1)"
   ]
  },
  {
   "cell_type": "code",
   "execution_count": 5,
   "metadata": {},
   "outputs": [],
   "source": [
    "# Read in the API key from another folder (saved locally, outside of the github repo)\n",
    "key_path = \"/Users/austinlasseter/keys/API_key.txt\"\n",
    "key_file = open(key_path, 'r')\n",
    "api_key = str(key_file.readline())[:16] # There's a hidden '/n' at the end of that string; slice at index 16 to remove."
   ]
  },
  {
   "cell_type": "code",
   "execution_count": 6,
   "metadata": {
    "collapsed": true
   },
   "outputs": [],
   "source": [
    "# Create 4 strings, for the 4 components in the sample call.\n",
    "string1 = \"https://mobilityscore.transitscreen.io/api\"\n",
    "string2 = \"/v1/locations.json?coordinates=\"\n",
    "string3 = \"&key=\"\n",
    "string4 = \"&geojson=false\""
   ]
  },
  {
   "cell_type": "code",
   "execution_count": 7,
   "metadata": {
    "collapsed": true
   },
   "outputs": [],
   "source": [
    "# Define a function that reads in the coordinates, then produces a new string from those 4 strings.\n",
    "def api_string(coords):\n",
    "    new_string = string1+string2+coords+string3+api_key+string4\n",
    "    return new_string"
   ]
  },
  {
   "cell_type": "code",
   "execution_count": 8,
   "metadata": {
    "collapsed": true
   },
   "outputs": [],
   "source": [
    "# Apply the function to our combined lat-long coordinates.\n",
    "df['call'] = df['coordinates'].apply(api_string)"
   ]
  },
  {
   "cell_type": "markdown",
   "metadata": {},
   "source": [
    "## Making the API calls"
   ]
  },
  {
   "cell_type": "code",
   "execution_count": 9,
   "metadata": {},
   "outputs": [],
   "source": [
    "# Extract the information from the transitscreen API. Do this in pieces.\n",
    "for i in range(500):\n",
    "    df.loc[i, 'json'] = [requests.get(df.loc[i,'call']).json()] "
   ]
  },
  {
   "cell_type": "code",
   "execution_count": 10,
   "metadata": {
    "collapsed": true
   },
   "outputs": [],
   "source": [
    "# Extract the information from the transitscreen API. Do this in pieces.\n",
    "for i in range(501,1500):\n",
    "    df.loc[i, 'json'] = [requests.get(df.loc[i,'call']).json()] "
   ]
  },
  {
   "cell_type": "code",
   "execution_count": 16,
   "metadata": {
    "collapsed": true
   },
   "outputs": [],
   "source": [
    "# Extract the information from the transitscreen API. Do this in pieces.\n",
    "for i in range(1501,3000):\n",
    "    df.loc[i, 'json'] = [requests.get(df.loc[i,'call']).json()] "
   ]
  },
  {
   "cell_type": "code",
   "execution_count": 17,
   "metadata": {
    "collapsed": true
   },
   "outputs": [],
   "source": [
    "# Extract the information from the transitscreen API. Do this in pieces.\n",
    "for i in range(3001,4500):\n",
    "    df.loc[i, 'json'] = [requests.get(df.loc[i,'call']).json()] "
   ]
  },
  {
   "cell_type": "code",
   "execution_count": 18,
   "metadata": {
    "collapsed": true
   },
   "outputs": [],
   "source": [
    "# Extract the information from the transitscreen API. Do this in pieces.\n",
    "for i in range(4501,len(df)):\n",
    "    df.loc[i, 'json'] = [requests.get(df.loc[i,'call']).json()] "
   ]
  },
  {
   "cell_type": "markdown",
   "metadata": {},
   "source": [
    "## Results"
   ]
  },
  {
   "cell_type": "code",
   "execution_count": 21,
   "metadata": {},
   "outputs": [
    {
     "data": {
      "text/html": [
       "<div>\n",
       "<style>\n",
       "    .dataframe thead tr:only-child th {\n",
       "        text-align: right;\n",
       "    }\n",
       "\n",
       "    .dataframe thead th {\n",
       "        text-align: left;\n",
       "    }\n",
       "\n",
       "    .dataframe tbody tr th {\n",
       "        vertical-align: top;\n",
       "    }\n",
       "</style>\n",
       "<table border=\"1\" class=\"dataframe\">\n",
       "  <thead>\n",
       "    <tr style=\"text-align: right;\">\n",
       "      <th></th>\n",
       "      <th>LATITUDE</th>\n",
       "      <th>LONGITUDE</th>\n",
       "      <th>FULLADDRESS</th>\n",
       "      <th>ZIPCODE</th>\n",
       "      <th>ASSESSMENT_NBHD</th>\n",
       "      <th>CLUSTER_</th>\n",
       "      <th>WARD</th>\n",
       "      <th>Units</th>\n",
       "      <th>Residential</th>\n",
       "      <th>coordinates</th>\n",
       "      <th>call</th>\n",
       "      <th>json</th>\n",
       "      <th>mobilityscore</th>\n",
       "    </tr>\n",
       "  </thead>\n",
       "  <tbody>\n",
       "    <tr>\n",
       "      <th>4928</th>\n",
       "      <td>38.929740</td>\n",
       "      <td>-76.964123</td>\n",
       "      <td>3032 VISTA STREET NE</td>\n",
       "      <td>20018</td>\n",
       "      <td>Woodridge</td>\n",
       "      <td>Cluster 24</td>\n",
       "      <td>Ward 5</td>\n",
       "      <td>3303</td>\n",
       "      <td>0.224947</td>\n",
       "      <td>38.92974033,-76.96412279</td>\n",
       "      <td>https://mobilityscore.transitscreen.io/api/v1/...</td>\n",
       "      <td>[{'data': {'mobilityScore': {'latitude': 38.92...</td>\n",
       "      <td>NaN</td>\n",
       "    </tr>\n",
       "    <tr>\n",
       "      <th>4929</th>\n",
       "      <td>38.925779</td>\n",
       "      <td>-76.966164</td>\n",
       "      <td>3002 FRANKLIN STREET NE</td>\n",
       "      <td>20018</td>\n",
       "      <td>Woodridge</td>\n",
       "      <td>Cluster 22</td>\n",
       "      <td>Ward 5</td>\n",
       "      <td>3303</td>\n",
       "      <td>0.224947</td>\n",
       "      <td>38.92577927,-76.96616359</td>\n",
       "      <td>https://mobilityscore.transitscreen.io/api/v1/...</td>\n",
       "      <td>[{'data': {'mobilityScore': {'latitude': 38.92...</td>\n",
       "      <td>NaN</td>\n",
       "    </tr>\n",
       "    <tr>\n",
       "      <th>4930</th>\n",
       "      <td>38.938105</td>\n",
       "      <td>-76.971944</td>\n",
       "      <td>2401 RANDOLPH STREET NE</td>\n",
       "      <td>20018</td>\n",
       "      <td>Woodridge</td>\n",
       "      <td>Cluster 24</td>\n",
       "      <td>Ward 5</td>\n",
       "      <td>3303</td>\n",
       "      <td>0.224947</td>\n",
       "      <td>38.93810506,-76.97194418</td>\n",
       "      <td>https://mobilityscore.transitscreen.io/api/v1/...</td>\n",
       "      <td>[{'data': {'mobilityScore': {'latitude': 38.93...</td>\n",
       "      <td>NaN</td>\n",
       "    </tr>\n",
       "    <tr>\n",
       "      <th>4931</th>\n",
       "      <td>38.929389</td>\n",
       "      <td>-76.970928</td>\n",
       "      <td>2430 IRVING STREET NE</td>\n",
       "      <td>20018</td>\n",
       "      <td>Woodridge</td>\n",
       "      <td>Cluster 22</td>\n",
       "      <td>Ward 5</td>\n",
       "      <td>3303</td>\n",
       "      <td>0.224947</td>\n",
       "      <td>38.92938856,-76.97092764</td>\n",
       "      <td>https://mobilityscore.transitscreen.io/api/v1/...</td>\n",
       "      <td>[{'data': {'mobilityScore': {'latitude': 38.92...</td>\n",
       "      <td>NaN</td>\n",
       "    </tr>\n",
       "    <tr>\n",
       "      <th>4932</th>\n",
       "      <td>38.937437</td>\n",
       "      <td>-76.971361</td>\n",
       "      <td>3902 25TH PLACE NE</td>\n",
       "      <td>20018</td>\n",
       "      <td>Woodridge</td>\n",
       "      <td>Cluster 24</td>\n",
       "      <td>Ward 5</td>\n",
       "      <td>3303</td>\n",
       "      <td>0.224947</td>\n",
       "      <td>38.9374374,-76.97136058</td>\n",
       "      <td>https://mobilityscore.transitscreen.io/api/v1/...</td>\n",
       "      <td>[{'data': {'mobilityScore': {'latitude': 38.93...</td>\n",
       "      <td>NaN</td>\n",
       "    </tr>\n",
       "  </tbody>\n",
       "</table>\n",
       "</div>"
      ],
      "text/plain": [
       "       LATITUDE  LONGITUDE              FULLADDRESS ZIPCODE ASSESSMENT_NBHD  \\\n",
       "4928  38.929740 -76.964123     3032 VISTA STREET NE   20018       Woodridge   \n",
       "4929  38.925779 -76.966164  3002 FRANKLIN STREET NE   20018       Woodridge   \n",
       "4930  38.938105 -76.971944  2401 RANDOLPH STREET NE   20018       Woodridge   \n",
       "4931  38.929389 -76.970928    2430 IRVING STREET NE   20018       Woodridge   \n",
       "4932  38.937437 -76.971361       3902 25TH PLACE NE   20018       Woodridge   \n",
       "\n",
       "        CLUSTER_    WARD  Units  Residential               coordinates  \\\n",
       "4928  Cluster 24  Ward 5   3303     0.224947  38.92974033,-76.96412279   \n",
       "4929  Cluster 22  Ward 5   3303     0.224947  38.92577927,-76.96616359   \n",
       "4930  Cluster 24  Ward 5   3303     0.224947  38.93810506,-76.97194418   \n",
       "4931  Cluster 22  Ward 5   3303     0.224947  38.92938856,-76.97092764   \n",
       "4932  Cluster 24  Ward 5   3303     0.224947   38.9374374,-76.97136058   \n",
       "\n",
       "                                                   call  \\\n",
       "4928  https://mobilityscore.transitscreen.io/api/v1/...   \n",
       "4929  https://mobilityscore.transitscreen.io/api/v1/...   \n",
       "4930  https://mobilityscore.transitscreen.io/api/v1/...   \n",
       "4931  https://mobilityscore.transitscreen.io/api/v1/...   \n",
       "4932  https://mobilityscore.transitscreen.io/api/v1/...   \n",
       "\n",
       "                                                   json  mobilityscore  \n",
       "4928  [{'data': {'mobilityScore': {'latitude': 38.92...            NaN  \n",
       "4929  [{'data': {'mobilityScore': {'latitude': 38.92...            NaN  \n",
       "4930  [{'data': {'mobilityScore': {'latitude': 38.93...            NaN  \n",
       "4931  [{'data': {'mobilityScore': {'latitude': 38.92...            NaN  \n",
       "4932  [{'data': {'mobilityScore': {'latitude': 38.93...            NaN  "
      ]
     },
     "execution_count": 21,
     "metadata": {},
     "output_type": "execute_result"
    }
   ],
   "source": [
    "df.tail()"
   ]
  },
  {
   "cell_type": "code",
   "execution_count": 22,
   "metadata": {},
   "outputs": [
    {
     "name": "stdout",
     "output_type": "stream",
     "text": [
      "(4933, 13)\n"
     ]
    }
   ],
   "source": [
    "print(df.shape)"
   ]
  },
  {
   "cell_type": "code",
   "execution_count": 24,
   "metadata": {},
   "outputs": [
    {
     "name": "stdout",
     "output_type": "stream",
     "text": [
      "(4929, 13)\n"
     ]
    }
   ],
   "source": [
    "df.dropna(subset = ['json'], inplace=True) # Delete them.\n",
    "print(df.shape)"
   ]
  },
  {
   "cell_type": "code",
   "execution_count": 34,
   "metadata": {},
   "outputs": [
    {
     "ename": "KeyError",
     "evalue": "'data'",
     "output_type": "error",
     "traceback": [
      "\u001b[0;31m---------------------------------------------------------------------------\u001b[0m",
      "\u001b[0;31mKeyError\u001b[0m                                  Traceback (most recent call last)",
      "\u001b[0;32m<ipython-input-34-d325148dc65b>\u001b[0m in \u001b[0;36m<module>\u001b[0;34m()\u001b[0m\n\u001b[1;32m      1\u001b[0m \u001b[0;32mfor\u001b[0m \u001b[0mi\u001b[0m \u001b[0;32min\u001b[0m \u001b[0mdf\u001b[0m\u001b[0;34m.\u001b[0m\u001b[0mindex\u001b[0m\u001b[0;34m:\u001b[0m\u001b[0;34m\u001b[0m\u001b[0m\n\u001b[0;32m----> 2\u001b[0;31m     \u001b[0mdf\u001b[0m\u001b[0;34m.\u001b[0m\u001b[0mloc\u001b[0m\u001b[0;34m[\u001b[0m\u001b[0;34m(\u001b[0m\u001b[0mdf\u001b[0m\u001b[0;34m.\u001b[0m\u001b[0mindex\u001b[0m\u001b[0;34m==\u001b[0m\u001b[0mi\u001b[0m\u001b[0;34m)\u001b[0m \u001b[0;34m,\u001b[0m \u001b[0;34m'mobilityscore'\u001b[0m\u001b[0;34m]\u001b[0m\u001b[0;34m=\u001b[0m\u001b[0mdf\u001b[0m\u001b[0;34m[\u001b[0m\u001b[0;34m'json'\u001b[0m\u001b[0;34m]\u001b[0m\u001b[0;34m[\u001b[0m\u001b[0mi\u001b[0m\u001b[0;34m]\u001b[0m\u001b[0;34m[\u001b[0m\u001b[0;36m0\u001b[0m\u001b[0;34m]\u001b[0m\u001b[0;34m[\u001b[0m\u001b[0;34m'data'\u001b[0m\u001b[0;34m]\u001b[0m\u001b[0;34m[\u001b[0m\u001b[0;34m'mobilityScore'\u001b[0m\u001b[0;34m]\u001b[0m\u001b[0;34m[\u001b[0m\u001b[0;34m'score'\u001b[0m\u001b[0;34m]\u001b[0m\u001b[0;34m\u001b[0m\u001b[0m\n\u001b[0m",
      "\u001b[0;31mKeyError\u001b[0m: 'data'"
     ]
    }
   ],
   "source": [
    "for i in df.index:\n",
    "    df.loc[(df.index==i) , 'mobilityscore']=df['json'][i][0]['data']['mobilityScore']['score']"
   ]
  },
  {
   "cell_type": "code",
   "execution_count": 35,
   "metadata": {},
   "outputs": [
    {
     "data": {
      "text/plain": [
       "2212"
      ]
     },
     "execution_count": 35,
     "metadata": {},
     "output_type": "execute_result"
    }
   ],
   "source": [
    "df['mobilityscore'].isnull().sum()"
   ]
  },
  {
   "cell_type": "code",
   "execution_count": 37,
   "metadata": {},
   "outputs": [
    {
     "name": "stdout",
     "output_type": "stream",
     "text": [
      "(2717, 13)\n"
     ]
    }
   ],
   "source": [
    "df.dropna(subset = ['mobilityscore'], inplace=True) # Delete them.\n",
    "print(df.shape)"
   ]
  },
  {
   "cell_type": "code",
   "execution_count": 38,
   "metadata": {},
   "outputs": [
    {
     "data": {
      "text/html": [
       "<div>\n",
       "<style>\n",
       "    .dataframe thead tr:only-child th {\n",
       "        text-align: right;\n",
       "    }\n",
       "\n",
       "    .dataframe thead th {\n",
       "        text-align: left;\n",
       "    }\n",
       "\n",
       "    .dataframe tbody tr th {\n",
       "        vertical-align: top;\n",
       "    }\n",
       "</style>\n",
       "<table border=\"1\" class=\"dataframe\">\n",
       "  <thead>\n",
       "    <tr style=\"text-align: right;\">\n",
       "      <th></th>\n",
       "      <th>coordinates</th>\n",
       "      <th>LATITUDE</th>\n",
       "      <th>LONGITUDE</th>\n",
       "      <th>FULLADDRESS</th>\n",
       "      <th>ZIPCODE</th>\n",
       "      <th>ASSESSMENT_NBHD</th>\n",
       "      <th>CLUSTER_</th>\n",
       "      <th>WARD</th>\n",
       "      <th>Units</th>\n",
       "      <th>Residential</th>\n",
       "      <th>mobilityscore</th>\n",
       "    </tr>\n",
       "  </thead>\n",
       "  <tbody>\n",
       "    <tr>\n",
       "      <th>0</th>\n",
       "      <td>38.8688316,-77.01825188</td>\n",
       "      <td>38.868832</td>\n",
       "      <td>-77.018252</td>\n",
       "      <td>221 2ND AVENUE SW</td>\n",
       "      <td>20024</td>\n",
       "      <td>Ft. McNair</td>\n",
       "      <td>Cluster 9</td>\n",
       "      <td>Ward 6</td>\n",
       "      <td>59</td>\n",
       "      <td>0.20339</td>\n",
       "      <td>54.0</td>\n",
       "    </tr>\n",
       "    <tr>\n",
       "      <th>1</th>\n",
       "      <td>38.8675634,-77.01823116</td>\n",
       "      <td>38.867563</td>\n",
       "      <td>-77.018231</td>\n",
       "      <td>241 2ND AVENUE SW</td>\n",
       "      <td>20024</td>\n",
       "      <td>Ft. McNair</td>\n",
       "      <td>Cluster 9</td>\n",
       "      <td>Ward 6</td>\n",
       "      <td>59</td>\n",
       "      <td>0.20339</td>\n",
       "      <td>49.0</td>\n",
       "    </tr>\n",
       "    <tr>\n",
       "      <th>2</th>\n",
       "      <td>38.90749873,-76.94332398</td>\n",
       "      <td>38.907499</td>\n",
       "      <td>-76.943324</td>\n",
       "      <td>4300 ANACOSTIA AVENUE NE</td>\n",
       "      <td>20019</td>\n",
       "      <td>DC Stadium Area</td>\n",
       "      <td>Cluster 29</td>\n",
       "      <td>Ward 7</td>\n",
       "      <td>57</td>\n",
       "      <td>0.00000</td>\n",
       "      <td>53.0</td>\n",
       "    </tr>\n",
       "    <tr>\n",
       "      <th>3</th>\n",
       "      <td>38.87882265,-76.97541985</td>\n",
       "      <td>38.878823</td>\n",
       "      <td>-76.975420</td>\n",
       "      <td>1900 M STREET SE</td>\n",
       "      <td>20003</td>\n",
       "      <td>Anacostia Park</td>\n",
       "      <td>Cluster 26</td>\n",
       "      <td>Ward 6</td>\n",
       "      <td>16</td>\n",
       "      <td>0.00000</td>\n",
       "      <td>49.0</td>\n",
       "    </tr>\n",
       "    <tr>\n",
       "      <th>4</th>\n",
       "      <td>38.87269412,-76.99086222</td>\n",
       "      <td>38.872694</td>\n",
       "      <td>-76.990862</td>\n",
       "      <td>1105 O STREET SE</td>\n",
       "      <td>20003</td>\n",
       "      <td>Anacostia Park</td>\n",
       "      <td>Cluster 27</td>\n",
       "      <td>Ward 6</td>\n",
       "      <td>16</td>\n",
       "      <td>0.00000</td>\n",
       "      <td>71.0</td>\n",
       "    </tr>\n",
       "  </tbody>\n",
       "</table>\n",
       "</div>"
      ],
      "text/plain": [
       "                coordinates   LATITUDE  LONGITUDE               FULLADDRESS  \\\n",
       "0   38.8688316,-77.01825188  38.868832 -77.018252         221 2ND AVENUE SW   \n",
       "1   38.8675634,-77.01823116  38.867563 -77.018231         241 2ND AVENUE SW   \n",
       "2  38.90749873,-76.94332398  38.907499 -76.943324  4300 ANACOSTIA AVENUE NE   \n",
       "3  38.87882265,-76.97541985  38.878823 -76.975420          1900 M STREET SE   \n",
       "4  38.87269412,-76.99086222  38.872694 -76.990862          1105 O STREET SE   \n",
       "\n",
       "  ZIPCODE  ASSESSMENT_NBHD    CLUSTER_    WARD  Units  Residential  \\\n",
       "0   20024       Ft. McNair   Cluster 9  Ward 6     59      0.20339   \n",
       "1   20024       Ft. McNair   Cluster 9  Ward 6     59      0.20339   \n",
       "2   20019  DC Stadium Area  Cluster 29  Ward 7     57      0.00000   \n",
       "3   20003   Anacostia Park  Cluster 26  Ward 6     16      0.00000   \n",
       "4   20003   Anacostia Park  Cluster 27  Ward 6     16      0.00000   \n",
       "\n",
       "   mobilityscore  \n",
       "0           54.0  \n",
       "1           49.0  \n",
       "2           53.0  \n",
       "3           49.0  \n",
       "4           71.0  "
      ]
     },
     "execution_count": 38,
     "metadata": {},
     "output_type": "execute_result"
    }
   ],
   "source": [
    "df.drop(['call', 'json'], axis=1, inplace=True)\n",
    "df = df[['coordinates', 'LATITUDE', 'LONGITUDE', 'FULLADDRESS', 'ZIPCODE', 'ASSESSMENT_NBHD', 'CLUSTER_', 'WARD', 'Units', 'Residential', 'mobilityscore']]\n",
    "df.head()"
   ]
  },
  {
   "cell_type": "code",
   "execution_count": 39,
   "metadata": {
    "collapsed": true
   },
   "outputs": [],
   "source": [
    "df.to_csv('data/dc_mscores.csv',index=False)"
   ]
  },
  {
   "cell_type": "code",
   "execution_count": null,
   "metadata": {
    "collapsed": true
   },
   "outputs": [],
   "source": []
  }
 ],
 "metadata": {
  "kernelspec": {
   "display_name": "Python [conda env:anaconda3]",
   "language": "python",
   "name": "conda-env-anaconda3-py"
  },
  "language_info": {
   "codemirror_mode": {
    "name": "ipython",
    "version": 3
   },
   "file_extension": ".py",
   "mimetype": "text/x-python",
   "name": "python",
   "nbconvert_exporter": "python",
   "pygments_lexer": "ipython3",
   "version": "3.6.3"
  }
 },
 "nbformat": 4,
 "nbformat_minor": 2
}
